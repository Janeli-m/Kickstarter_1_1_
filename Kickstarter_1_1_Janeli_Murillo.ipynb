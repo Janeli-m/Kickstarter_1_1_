{
  "nbformat": 4,
  "nbformat_minor": 0,
  "metadata": {
    "colab": {
      "name": "Kickstarter-1-1 Janeli Murillo",
      "provenance": [],
      "include_colab_link": true
    },
    "kernelspec": {
      "name": "python3",
      "display_name": "Python 3"
    },
    "language_info": {
      "name": "python"
    }
  },
  "cells": [
    {
      "cell_type": "markdown",
      "metadata": {
        "id": "view-in-github",
        "colab_type": "text"
      },
      "source": [
        "<a href=\"https://colab.research.google.com/github/Janeli-m/Kickstarter_1_1_/blob/main/Kickstarter_1_1_Janeli_Murillo.ipynb\" target=\"_parent\"><img src=\"https://colab.research.google.com/assets/colab-badge.svg\" alt=\"Open In Colab\"/></a>"
      ]
    },
    {
      "cell_type": "code",
      "execution_count": 148,
      "metadata": {
        "id": "rWbSLTngF1To"
      },
      "outputs": [],
      "source": [
        "# import librarys\n",
        "import pandas as pd\n",
        "import seaborn as sns\n",
        "import matplotlib.pyplot as plt\n",
        "from plotnine import *\n",
        "import numpy as np\n",
        "import plotly.graph_objects as go\n",
        "from collections import OrderedDict\n",
        "import time\n",
        "\n",
        "\n",
        "%matplotlib inline\n",
        "import datetime as dt\n",
        "from matplotlib.gridspec import GridSpec\n",
        "import plotly.express as px\n",
        "from sklearn.cluster import KMeans\n",
        "from sklearn.preprocessing import StandardScaler as ss\n"
      ]
    },
    {
      "cell_type": "code",
      "source": [
        "df = pd.read_excel ('/content/kickstarter-1-1.xlsx')\n",
        "df.head()"
      ],
      "metadata": {
        "id": "WzipDq2GT4bB"
      },
      "execution_count": null,
      "outputs": []
    },
    {
      "cell_type": "code",
      "source": [
        "df.info()"
      ],
      "metadata": {
        "colab": {
          "base_uri": "https://localhost:8080/"
        },
        "id": "1kh8SXouWEac",
        "outputId": "059faf8c-1782-469e-f0a1-4140b7cfe180"
      },
      "execution_count": 150,
      "outputs": [
        {
          "output_type": "stream",
          "name": "stdout",
          "text": [
            "<class 'pandas.core.frame.DataFrame'>\n",
            "RangeIndex: 4114 entries, 0 to 4113\n",
            "Data columns (total 15 columns):\n",
            " #   Column                     Non-Null Count  Dtype  \n",
            "---  ------                     --------------  -----  \n",
            " 0   id                         4114 non-null   int64  \n",
            " 1   name                       4114 non-null   object \n",
            " 2   blurb                      4113 non-null   object \n",
            " 3   goal                       4114 non-null   float64\n",
            " 4   pledged                    4114 non-null   float64\n",
            " 5   state                      4114 non-null   object \n",
            " 6   country                    4114 non-null   object \n",
            " 7   currency                   4114 non-null   object \n",
            " 8   deadline                   4114 non-null   int64  \n",
            " 9   launched_at                4114 non-null   int64  \n",
            " 10  staff_pick                 4114 non-null   bool   \n",
            " 11  backers_count              4114 non-null   int64  \n",
            " 12  spotlight                  4114 non-null   bool   \n",
            " 13  Category and Sub-Category  4114 non-null   object \n",
            " 14  Continent                  4114 non-null   object \n",
            "dtypes: bool(2), float64(2), int64(4), object(7)\n",
            "memory usage: 426.0+ KB\n"
          ]
        }
      ]
    },
    {
      "cell_type": "markdown",
      "source": [
        "# Data Cleaning "
      ],
      "metadata": {
        "id": "3k7zUT8JWQ82"
      }
    },
    {
      "cell_type": "code",
      "source": [
        "# check whether there are any null values\n",
        "df.isnull().sum()"
      ],
      "metadata": {
        "colab": {
          "base_uri": "https://localhost:8080/"
        },
        "id": "_TXkpx-CWkoA",
        "outputId": "1867d9ad-82a7-4966-f104-927a9afcaebe"
      },
      "execution_count": 151,
      "outputs": [
        {
          "output_type": "execute_result",
          "data": {
            "text/plain": [
              "id                           0\n",
              "name                         0\n",
              "blurb                        1\n",
              "goal                         0\n",
              "pledged                      0\n",
              "state                        0\n",
              "country                      0\n",
              "currency                     0\n",
              "deadline                     0\n",
              "launched_at                  0\n",
              "staff_pick                   0\n",
              "backers_count                0\n",
              "spotlight                    0\n",
              "Category and Sub-Category    0\n",
              "Continent                    0\n",
              "dtype: int64"
            ]
          },
          "metadata": {},
          "execution_count": 151
        }
      ]
    },
    {
      "cell_type": "code",
      "source": [
        "df = df.dropna()"
      ],
      "metadata": {
        "id": "bnFk4c73XXQA"
      },
      "execution_count": 152,
      "outputs": []
    },
    {
      "cell_type": "code",
      "source": [
        "# confirm there are no more null values\n",
        "df.isnull().sum()"
      ],
      "metadata": {
        "colab": {
          "base_uri": "https://localhost:8080/"
        },
        "id": "6mwzY8URWdbn",
        "outputId": "c16e9efe-39eb-4083-bd01-4473511c0f9b"
      },
      "execution_count": 153,
      "outputs": [
        {
          "output_type": "execute_result",
          "data": {
            "text/plain": [
              "id                           0\n",
              "name                         0\n",
              "blurb                        0\n",
              "goal                         0\n",
              "pledged                      0\n",
              "state                        0\n",
              "country                      0\n",
              "currency                     0\n",
              "deadline                     0\n",
              "launched_at                  0\n",
              "staff_pick                   0\n",
              "backers_count                0\n",
              "spotlight                    0\n",
              "Category and Sub-Category    0\n",
              "Continent                    0\n",
              "dtype: int64"
            ]
          },
          "metadata": {},
          "execution_count": 153
        }
      ]
    },
    {
      "cell_type": "code",
      "source": [
        "#next step would be to check if our dataset has any duplicated values"
      ],
      "metadata": {
        "id": "D6aRj90XYyLR"
      },
      "execution_count": 154,
      "outputs": []
    },
    {
      "cell_type": "code",
      "source": [
        "dup_id = df['id'].duplicated() == True"
      ],
      "metadata": {
        "id": "nOynuTDBY2LS"
      },
      "execution_count": 155,
      "outputs": []
    },
    {
      "cell_type": "code",
      "source": [
        "dup_id.sum()"
      ],
      "metadata": {
        "colab": {
          "base_uri": "https://localhost:8080/"
        },
        "id": "4vO7lLS7Y3uJ",
        "outputId": "8585bcb1-474d-4bda-bb8d-fc8c1630d3c0"
      },
      "execution_count": 156,
      "outputs": [
        {
          "output_type": "execute_result",
          "data": {
            "text/plain": [
              "0"
            ]
          },
          "metadata": {},
          "execution_count": 156
        }
      ]
    },
    {
      "cell_type": "markdown",
      "source": [
        "There are no duplicates"
      ],
      "metadata": {
        "id": "YEsw18I3ZEkB"
      }
    },
    {
      "cell_type": "markdown",
      "source": [
        "# Data Pre-processing"
      ],
      "metadata": {
        "id": "dLIg6OdzaVou"
      }
    },
    {
      "cell_type": "code",
      "source": [
        "# convert \"deadline\" and \"launched_at\" to date time "
      ],
      "metadata": {
        "id": "eP1ueoRiaYmm"
      },
      "execution_count": 157,
      "outputs": []
    },
    {
      "cell_type": "code",
      "source": [
        "df['deadline'] = pd.to_datetime(df['deadline'], unit='s')\n",
        "df['launched_at'] = pd.to_datetime(df['launched_at'], unit='s')\n"
      ],
      "metadata": {
        "id": "g5ixrCJfCOPM"
      },
      "execution_count": 158,
      "outputs": []
    },
    {
      "cell_type": "code",
      "source": [
        "# added the quarter\n",
        "df['quarter'] = df['launched_at'].dt.quarter"
      ],
      "metadata": {
        "id": "xOg26Nb7rJfP"
      },
      "execution_count": 159,
      "outputs": []
    },
    {
      "cell_type": "code",
      "source": [
        "# create column with the length of the campaigns in days which will help us in analysis"
      ],
      "metadata": {
        "id": "mbq8l7t_EXET"
      },
      "execution_count": 160,
      "outputs": []
    },
    {
      "cell_type": "code",
      "source": [
        "#df['deadline'] - df['launched_at']\n",
        "df['campaign span days'] = (df['deadline'] - df['launched_at']).dt.days"
      ],
      "metadata": {
        "id": "wtwGPBOzWzDo"
      },
      "execution_count": 161,
      "outputs": []
    },
    {
      "cell_type": "code",
      "source": [
        "# extract year  which will help us in analysis\n",
        "df['launched year'] = df['launched_at'].dt.year"
      ],
      "metadata": {
        "id": "1_WrrRd_kMfu"
      },
      "execution_count": 162,
      "outputs": []
    },
    {
      "cell_type": "code",
      "source": [
        "df.country.unique()"
      ],
      "metadata": {
        "colab": {
          "base_uri": "https://localhost:8080/"
        },
        "id": "K-fjzMx_See_",
        "outputId": "94d59f4f-1d98-41f0-d2b9-59e9ae770e8d"
      },
      "execution_count": 163,
      "outputs": [
        {
          "output_type": "execute_result",
          "data": {
            "text/plain": [
              "array(['US', 'GB', 'AU', 'ES', 'NZ', 'CA', 'FR', 'HK', 'DK', 'NL', 'NO',\n",
              "       'SE', 'DE', 'IT', 'MX', 'AT', 'CH', 'IE', 'BE', 'LU', 'SG'],\n",
              "      dtype=object)"
            ]
          },
          "metadata": {},
          "execution_count": 163
        }
      ]
    },
    {
      "cell_type": "code",
      "source": [
        "df.Continent.unique()"
      ],
      "metadata": {
        "colab": {
          "base_uri": "https://localhost:8080/"
        },
        "id": "fdnIZflXSuj9",
        "outputId": "c2b591f3-52fe-428a-c6b3-a7620dbb1148"
      },
      "execution_count": 164,
      "outputs": [
        {
          "output_type": "execute_result",
          "data": {
            "text/plain": [
              "array(['North America', 'Europe', 'Australia', 'Asia'], dtype=object)"
            ]
          },
          "metadata": {},
          "execution_count": 164
        }
      ]
    },
    {
      "cell_type": "code",
      "source": [
        "# separate Category and Sub-Category into two columns\n",
        "df[['Category', 'Sub-Category']] = df['Category and Sub-Category'].str.split('/', expand=True)\n",
        "df.head()"
      ],
      "metadata": {
        "id": "9-AXZ7DhgPbv",
        "colab": {
          "base_uri": "https://localhost:8080/",
          "height": 669
        },
        "outputId": "51e6de1f-582d-444d-fd66-aa994b789aa0"
      },
      "execution_count": 165,
      "outputs": [
        {
          "output_type": "execute_result",
          "data": {
            "text/html": [
              "\n",
              "  <div id=\"df-c2b3ca2c-a096-4428-92ab-599600739a02\">\n",
              "    <div class=\"colab-df-container\">\n",
              "      <div>\n",
              "<style scoped>\n",
              "    .dataframe tbody tr th:only-of-type {\n",
              "        vertical-align: middle;\n",
              "    }\n",
              "\n",
              "    .dataframe tbody tr th {\n",
              "        vertical-align: top;\n",
              "    }\n",
              "\n",
              "    .dataframe thead th {\n",
              "        text-align: right;\n",
              "    }\n",
              "</style>\n",
              "<table border=\"1\" class=\"dataframe\">\n",
              "  <thead>\n",
              "    <tr style=\"text-align: right;\">\n",
              "      <th></th>\n",
              "      <th>id</th>\n",
              "      <th>name</th>\n",
              "      <th>blurb</th>\n",
              "      <th>goal</th>\n",
              "      <th>pledged</th>\n",
              "      <th>state</th>\n",
              "      <th>country</th>\n",
              "      <th>currency</th>\n",
              "      <th>deadline</th>\n",
              "      <th>launched_at</th>\n",
              "      <th>staff_pick</th>\n",
              "      <th>backers_count</th>\n",
              "      <th>spotlight</th>\n",
              "      <th>Category and Sub-Category</th>\n",
              "      <th>Continent</th>\n",
              "      <th>quarter</th>\n",
              "      <th>campaign span days</th>\n",
              "      <th>launched year</th>\n",
              "      <th>Category</th>\n",
              "      <th>Sub-Category</th>\n",
              "    </tr>\n",
              "  </thead>\n",
              "  <tbody>\n",
              "    <tr>\n",
              "      <th>0</th>\n",
              "      <td>0</td>\n",
              "      <td>GIRLS STATE a new musical comedy TV project</td>\n",
              "      <td>In this new TV show \"All Politics is Vocal\" as...</td>\n",
              "      <td>8500.0</td>\n",
              "      <td>11633.00</td>\n",
              "      <td>successful</td>\n",
              "      <td>US</td>\n",
              "      <td>USD</td>\n",
              "      <td>2015-07-23 03:00:00</td>\n",
              "      <td>2015-06-22 00:10:11</td>\n",
              "      <td>False</td>\n",
              "      <td>182</td>\n",
              "      <td>True</td>\n",
              "      <td>film &amp; video/television</td>\n",
              "      <td>North America</td>\n",
              "      <td>2</td>\n",
              "      <td>31</td>\n",
              "      <td>2015</td>\n",
              "      <td>film &amp; video</td>\n",
              "      <td>television</td>\n",
              "    </tr>\n",
              "    <tr>\n",
              "      <th>1</th>\n",
              "      <td>1</td>\n",
              "      <td>FannibalFest Fan Convention</td>\n",
              "      <td>A Hannibal TV Show Fan Convention and Art Coll...</td>\n",
              "      <td>10275.0</td>\n",
              "      <td>14653.00</td>\n",
              "      <td>successful</td>\n",
              "      <td>US</td>\n",
              "      <td>USD</td>\n",
              "      <td>2017-03-02 14:24:43</td>\n",
              "      <td>2017-01-31 14:24:43</td>\n",
              "      <td>False</td>\n",
              "      <td>79</td>\n",
              "      <td>True</td>\n",
              "      <td>film &amp; video/television</td>\n",
              "      <td>North America</td>\n",
              "      <td>1</td>\n",
              "      <td>30</td>\n",
              "      <td>2017</td>\n",
              "      <td>film &amp; video</td>\n",
              "      <td>television</td>\n",
              "    </tr>\n",
              "    <tr>\n",
              "      <th>2</th>\n",
              "      <td>2</td>\n",
              "      <td>Charlie teaser completion</td>\n",
              "      <td>Completion fund for post-production for teaser...</td>\n",
              "      <td>500.0</td>\n",
              "      <td>525.00</td>\n",
              "      <td>successful</td>\n",
              "      <td>GB</td>\n",
              "      <td>GBP</td>\n",
              "      <td>2016-02-15 16:51:23</td>\n",
              "      <td>2016-02-05 16:51:23</td>\n",
              "      <td>False</td>\n",
              "      <td>35</td>\n",
              "      <td>True</td>\n",
              "      <td>film &amp; video/television</td>\n",
              "      <td>Europe</td>\n",
              "      <td>1</td>\n",
              "      <td>10</td>\n",
              "      <td>2016</td>\n",
              "      <td>film &amp; video</td>\n",
              "      <td>television</td>\n",
              "    </tr>\n",
              "    <tr>\n",
              "      <th>3</th>\n",
              "      <td>3</td>\n",
              "      <td>Unsure/Positive: A Dramedy Series About Life w...</td>\n",
              "      <td>We already produced the *very* beginning of th...</td>\n",
              "      <td>10000.0</td>\n",
              "      <td>10390.00</td>\n",
              "      <td>successful</td>\n",
              "      <td>US</td>\n",
              "      <td>USD</td>\n",
              "      <td>2014-08-07 12:21:47</td>\n",
              "      <td>2014-07-08 12:21:47</td>\n",
              "      <td>False</td>\n",
              "      <td>150</td>\n",
              "      <td>True</td>\n",
              "      <td>film &amp; video/television</td>\n",
              "      <td>North America</td>\n",
              "      <td>3</td>\n",
              "      <td>30</td>\n",
              "      <td>2014</td>\n",
              "      <td>film &amp; video</td>\n",
              "      <td>television</td>\n",
              "    </tr>\n",
              "    <tr>\n",
              "      <th>4</th>\n",
              "      <td>4</td>\n",
              "      <td>Party Monsters</td>\n",
              "      <td>19th centuryâ€™s most notorious literary chara...</td>\n",
              "      <td>44000.0</td>\n",
              "      <td>54116.28</td>\n",
              "      <td>successful</td>\n",
              "      <td>US</td>\n",
              "      <td>USD</td>\n",
              "      <td>2015-12-19 20:01:19</td>\n",
              "      <td>2015-11-19 20:01:19</td>\n",
              "      <td>False</td>\n",
              "      <td>284</td>\n",
              "      <td>True</td>\n",
              "      <td>film &amp; video/television</td>\n",
              "      <td>North America</td>\n",
              "      <td>4</td>\n",
              "      <td>30</td>\n",
              "      <td>2015</td>\n",
              "      <td>film &amp; video</td>\n",
              "      <td>television</td>\n",
              "    </tr>\n",
              "  </tbody>\n",
              "</table>\n",
              "</div>\n",
              "      <button class=\"colab-df-convert\" onclick=\"convertToInteractive('df-c2b3ca2c-a096-4428-92ab-599600739a02')\"\n",
              "              title=\"Convert this dataframe to an interactive table.\"\n",
              "              style=\"display:none;\">\n",
              "        \n",
              "  <svg xmlns=\"http://www.w3.org/2000/svg\" height=\"24px\"viewBox=\"0 0 24 24\"\n",
              "       width=\"24px\">\n",
              "    <path d=\"M0 0h24v24H0V0z\" fill=\"none\"/>\n",
              "    <path d=\"M18.56 5.44l.94 2.06.94-2.06 2.06-.94-2.06-.94-.94-2.06-.94 2.06-2.06.94zm-11 1L8.5 8.5l.94-2.06 2.06-.94-2.06-.94L8.5 2.5l-.94 2.06-2.06.94zm10 10l.94 2.06.94-2.06 2.06-.94-2.06-.94-.94-2.06-.94 2.06-2.06.94z\"/><path d=\"M17.41 7.96l-1.37-1.37c-.4-.4-.92-.59-1.43-.59-.52 0-1.04.2-1.43.59L10.3 9.45l-7.72 7.72c-.78.78-.78 2.05 0 2.83L4 21.41c.39.39.9.59 1.41.59.51 0 1.02-.2 1.41-.59l7.78-7.78 2.81-2.81c.8-.78.8-2.07 0-2.86zM5.41 20L4 18.59l7.72-7.72 1.47 1.35L5.41 20z\"/>\n",
              "  </svg>\n",
              "      </button>\n",
              "      \n",
              "  <style>\n",
              "    .colab-df-container {\n",
              "      display:flex;\n",
              "      flex-wrap:wrap;\n",
              "      gap: 12px;\n",
              "    }\n",
              "\n",
              "    .colab-df-convert {\n",
              "      background-color: #E8F0FE;\n",
              "      border: none;\n",
              "      border-radius: 50%;\n",
              "      cursor: pointer;\n",
              "      display: none;\n",
              "      fill: #1967D2;\n",
              "      height: 32px;\n",
              "      padding: 0 0 0 0;\n",
              "      width: 32px;\n",
              "    }\n",
              "\n",
              "    .colab-df-convert:hover {\n",
              "      background-color: #E2EBFA;\n",
              "      box-shadow: 0px 1px 2px rgba(60, 64, 67, 0.3), 0px 1px 3px 1px rgba(60, 64, 67, 0.15);\n",
              "      fill: #174EA6;\n",
              "    }\n",
              "\n",
              "    [theme=dark] .colab-df-convert {\n",
              "      background-color: #3B4455;\n",
              "      fill: #D2E3FC;\n",
              "    }\n",
              "\n",
              "    [theme=dark] .colab-df-convert:hover {\n",
              "      background-color: #434B5C;\n",
              "      box-shadow: 0px 1px 3px 1px rgba(0, 0, 0, 0.15);\n",
              "      filter: drop-shadow(0px 1px 2px rgba(0, 0, 0, 0.3));\n",
              "      fill: #FFFFFF;\n",
              "    }\n",
              "  </style>\n",
              "\n",
              "      <script>\n",
              "        const buttonEl =\n",
              "          document.querySelector('#df-c2b3ca2c-a096-4428-92ab-599600739a02 button.colab-df-convert');\n",
              "        buttonEl.style.display =\n",
              "          google.colab.kernel.accessAllowed ? 'block' : 'none';\n",
              "\n",
              "        async function convertToInteractive(key) {\n",
              "          const element = document.querySelector('#df-c2b3ca2c-a096-4428-92ab-599600739a02');\n",
              "          const dataTable =\n",
              "            await google.colab.kernel.invokeFunction('convertToInteractive',\n",
              "                                                     [key], {});\n",
              "          if (!dataTable) return;\n",
              "\n",
              "          const docLinkHtml = 'Like what you see? Visit the ' +\n",
              "            '<a target=\"_blank\" href=https://colab.research.google.com/notebooks/data_table.ipynb>data table notebook</a>'\n",
              "            + ' to learn more about interactive tables.';\n",
              "          element.innerHTML = '';\n",
              "          dataTable['output_type'] = 'display_data';\n",
              "          await google.colab.output.renderOutput(dataTable, element);\n",
              "          const docLink = document.createElement('div');\n",
              "          docLink.innerHTML = docLinkHtml;\n",
              "          element.appendChild(docLink);\n",
              "        }\n",
              "      </script>\n",
              "    </div>\n",
              "  </div>\n",
              "  "
            ],
            "text/plain": [
              "   id  ... Sub-Category\n",
              "0   0  ...   television\n",
              "1   1  ...   television\n",
              "2   2  ...   television\n",
              "3   3  ...   television\n",
              "4   4  ...   television\n",
              "\n",
              "[5 rows x 20 columns]"
            ]
          },
          "metadata": {},
          "execution_count": 165
        }
      ]
    },
    {
      "cell_type": "code",
      "source": [
        "df.Category.unique()"
      ],
      "metadata": {
        "colab": {
          "base_uri": "https://localhost:8080/"
        },
        "id": "FRia12wwXz9w",
        "outputId": "a196f33e-0e2f-4b46-d673-526edcdaa496"
      },
      "execution_count": 166,
      "outputs": [
        {
          "output_type": "execute_result",
          "data": {
            "text/plain": [
              "array(['film & video', 'theater', 'technology', 'publishing', 'music',\n",
              "       'journalism', 'games', 'food', 'photography'], dtype=object)"
            ]
          },
          "metadata": {},
          "execution_count": 166
        }
      ]
    },
    {
      "cell_type": "code",
      "source": [
        "\n",
        "\n"
      ],
      "metadata": {
        "id": "MFpX-jVzohk_"
      },
      "execution_count": null,
      "outputs": []
    },
    {
      "cell_type": "markdown",
      "source": [
        "# Data Analysis \n",
        "\n",
        "# Data from all over the world "
      ],
      "metadata": {
        "id": "D4089dbKIAZP"
      }
    },
    {
      "cell_type": "markdown",
      "source": [
        "Now we kind of have a proper cleaned dataset we can start analysing our data and visualizing those results\n"
      ],
      "metadata": {
        "id": "0nxEK-ZeIIfH"
      }
    },
    {
      "cell_type": "code",
      "source": [
        "cat_values = df['Category'].value_counts()\n",
        "cat_values"
      ],
      "metadata": {
        "colab": {
          "base_uri": "https://localhost:8080/"
        },
        "id": "8AY7aPZfH_Un",
        "outputId": "b2eb8268-c952-4179-a605-2690d209539d"
      },
      "execution_count": 167,
      "outputs": [
        {
          "output_type": "execute_result",
          "data": {
            "text/plain": [
              "theater         1392\n",
              "music            700\n",
              "technology       600\n",
              "film & video     520\n",
              "publishing       237\n",
              "games            220\n",
              "photography      220\n",
              "food             200\n",
              "journalism        24\n",
              "Name: Category, dtype: int64"
            ]
          },
          "metadata": {},
          "execution_count": 167
        }
      ]
    },
    {
      "cell_type": "code",
      "source": [
        "sns.set_style('whitegrid')\n",
        "plt.figure(figsize=(9,6),dpi=100)\n",
        "cat_values = df['Category'].value_counts()\n",
        "\n",
        "sns.barplot(data=df,x=cat_values.values,y=cat_values.index)\n",
        "\n",
        "plt.xlabel('Count')\n",
        "plt.ylabel('Campaign category')\n",
        "plt.title('Campaign - category');"
      ],
      "metadata": {
        "colab": {
          "base_uri": "https://localhost:8080/",
          "height": 555
        },
        "id": "uZgYhswoI9Fw",
        "outputId": "b81e1f1a-0a0f-425f-e811-3fcfce993a5d"
      },
      "execution_count": 168,
      "outputs": [
        {
          "output_type": "display_data",
          "data": {
            "image/png": "[encoded data removed]",
            "text/plain": [
              "<Figure size 900x600 with 1 Axes>"
            ]
          },
          "metadata": {}
        }
      ]
    },
    {
      "cell_type": "markdown",
      "source": [
        "**Theater** seems to the most popular Kickstarter campaign\n"
      ],
      "metadata": {
        "id": "FrodXwIPJ7mU"
      }
    },
    {
      "cell_type": "code",
      "source": [
        "#Lets have a look on the sub categories also\n",
        "sub_cat = df['Sub-Category'].value_counts()\n",
        "sub_cat = sub_cat.nlargest(15)"
      ],
      "metadata": {
        "id": "cJjsaOZYKBz_"
      },
      "execution_count": 169,
      "outputs": []
    },
    {
      "cell_type": "code",
      "source": [
        "plt.figure(figsize=(9,6),dpi=100)\n",
        "\n",
        "sns.barplot(x=sub_cat.values,y=sub_cat.index)"
      ],
      "metadata": {
        "colab": {
          "base_uri": "https://localhost:8080/",
          "height": 530
        },
        "id": "AdEyPpItKYrq",
        "outputId": "7cfdd833-11ae-4cc3-e403-6984e836a32e"
      },
      "execution_count": 170,
      "outputs": [
        {
          "output_type": "execute_result",
          "data": {
            "text/plain": [
              "<matplotlib.axes._subplots.AxesSubplot at 0x7f912704e6d0>"
            ]
          },
          "metadata": {},
          "execution_count": 170
        },
        {
          "output_type": "display_data",
          "data": {
            "image/png": "[encoded data removed]",
            "text/plain": [
              "<Figure size 900x600 with 1 Axes>"
            ]
          },
          "metadata": {}
        }
      ]
    },
    {
      "cell_type": "code",
      "source": [
        "df[df['Sub-Category'] == 'plays']"
      ],
      "metadata": {
        "colab": {
          "base_uri": "https://localhost:8080/",
          "height": 1000
        },
        "id": "cgt8VsY4K0Vm",
        "outputId": "0c905487-f376-4f74-debf-98b17ab77dbb"
      },
      "execution_count": 171,
      "outputs": [
        {
          "output_type": "execute_result",
          "data": {
            "text/html": [
              "\n",
              "  <div id=\"df-3b0cb262-cbad-4544-9afd-df4cb430d508\">\n",
              "    <div class=\"colab-df-container\">\n",
              "      <div>\n",
              "<style scoped>\n",
              "    .dataframe tbody tr th:only-of-type {\n",
              "        vertical-align: middle;\n",
              "    }\n",
              "\n",
              "    .dataframe tbody tr th {\n",
              "        vertical-align: top;\n",
              "    }\n",
              "\n",
              "    .dataframe thead th {\n",
              "        text-align: right;\n",
              "    }\n",
              "</style>\n",
              "<table border=\"1\" class=\"dataframe\">\n",
              "  <thead>\n",
              "    <tr style=\"text-align: right;\">\n",
              "      <th></th>\n",
              "      <th>id</th>\n",
              "      <th>name</th>\n",
              "      <th>blurb</th>\n",
              "      <th>goal</th>\n",
              "      <th>pledged</th>\n",
              "      <th>state</th>\n",
              "      <th>country</th>\n",
              "      <th>currency</th>\n",
              "      <th>deadline</th>\n",
              "      <th>launched_at</th>\n",
              "      <th>staff_pick</th>\n",
              "      <th>backers_count</th>\n",
              "      <th>spotlight</th>\n",
              "      <th>Category and Sub-Category</th>\n",
              "      <th>Continent</th>\n",
              "      <th>quarter</th>\n",
              "      <th>campaign span days</th>\n",
              "      <th>launched year</th>\n",
              "      <th>Category</th>\n",
              "      <th>Sub-Category</th>\n",
              "    </tr>\n",
              "  </thead>\n",
              "  <tbody>\n",
              "    <tr>\n",
              "      <th>520</th>\n",
              "      <td>520</td>\n",
              "      <td>Darktales The Play</td>\n",
              "      <td>Tim Arthur's 21st anniversary sell-out product...</td>\n",
              "      <td>5000.0</td>\n",
              "      <td>5105.00</td>\n",
              "      <td>successful</td>\n",
              "      <td>GB</td>\n",
              "      <td>GBP</td>\n",
              "      <td>2015-12-10 16:51:01</td>\n",
              "      <td>2015-11-10 16:51:01</td>\n",
              "      <td>False</td>\n",
              "      <td>34</td>\n",
              "      <td>True</td>\n",
              "      <td>theater/plays</td>\n",
              "      <td>Europe</td>\n",
              "      <td>4</td>\n",
              "      <td>30</td>\n",
              "      <td>2015</td>\n",
              "      <td>theater</td>\n",
              "      <td>plays</td>\n",
              "    </tr>\n",
              "    <tr>\n",
              "      <th>521</th>\n",
              "      <td>521</td>\n",
              "      <td>U.S. Premiere of \"dirty butterfly\" by debbie t...</td>\n",
              "      <td>The Blind Owl in co-production with Halcyon Th...</td>\n",
              "      <td>5000.0</td>\n",
              "      <td>5232.00</td>\n",
              "      <td>successful</td>\n",
              "      <td>US</td>\n",
              "      <td>USD</td>\n",
              "      <td>2016-11-01 04:59:00</td>\n",
              "      <td>2016-10-03 02:13:39</td>\n",
              "      <td>False</td>\n",
              "      <td>56</td>\n",
              "      <td>True</td>\n",
              "      <td>theater/plays</td>\n",
              "      <td>North America</td>\n",
              "      <td>4</td>\n",
              "      <td>29</td>\n",
              "      <td>2016</td>\n",
              "      <td>theater</td>\n",
              "      <td>plays</td>\n",
              "    </tr>\n",
              "    <tr>\n",
              "      <th>522</th>\n",
              "      <td>522</td>\n",
              "      <td>COMPASS PLAYERS</td>\n",
              "      <td>*** TO MAKE DONATIONS IN THE FUTURE           ...</td>\n",
              "      <td>3000.0</td>\n",
              "      <td>3440.00</td>\n",
              "      <td>successful</td>\n",
              "      <td>US</td>\n",
              "      <td>USD</td>\n",
              "      <td>2016-03-20 23:58:45</td>\n",
              "      <td>2016-03-01 00:58:45</td>\n",
              "      <td>False</td>\n",
              "      <td>31</td>\n",
              "      <td>True</td>\n",
              "      <td>theater/plays</td>\n",
              "      <td>North America</td>\n",
              "      <td>1</td>\n",
              "      <td>19</td>\n",
              "      <td>2016</td>\n",
              "      <td>theater</td>\n",
              "      <td>plays</td>\n",
              "    </tr>\n",
              "    <tr>\n",
              "      <th>523</th>\n",
              "      <td>523</td>\n",
              "      <td>\"The Star on My Heart\" Original Play Project o...</td>\n",
              "      <td>The Star on My Heart, an original play based o...</td>\n",
              "      <td>5000.0</td>\n",
              "      <td>6030.00</td>\n",
              "      <td>successful</td>\n",
              "      <td>US</td>\n",
              "      <td>USD</td>\n",
              "      <td>2015-09-21 03:11:16</td>\n",
              "      <td>2015-08-22 03:11:16</td>\n",
              "      <td>False</td>\n",
              "      <td>84</td>\n",
              "      <td>True</td>\n",
              "      <td>theater/plays</td>\n",
              "      <td>North America</td>\n",
              "      <td>3</td>\n",
              "      <td>30</td>\n",
              "      <td>2015</td>\n",
              "      <td>theater</td>\n",
              "      <td>plays</td>\n",
              "    </tr>\n",
              "    <tr>\n",
              "      <th>524</th>\n",
              "      <td>524</td>\n",
              "      <td>Zero Down</td>\n",
              "      <td>Angel on the Corner need YOUR help to raise Â£...</td>\n",
              "      <td>3500.0</td>\n",
              "      <td>3803.55</td>\n",
              "      <td>successful</td>\n",
              "      <td>GB</td>\n",
              "      <td>GBP</td>\n",
              "      <td>2016-06-01 17:12:49</td>\n",
              "      <td>2016-05-02 17:12:49</td>\n",
              "      <td>False</td>\n",
              "      <td>130</td>\n",
              "      <td>True</td>\n",
              "      <td>theater/plays</td>\n",
              "      <td>Europe</td>\n",
              "      <td>2</td>\n",
              "      <td>30</td>\n",
              "      <td>2016</td>\n",
              "      <td>theater</td>\n",
              "      <td>plays</td>\n",
              "    </tr>\n",
              "    <tr>\n",
              "      <th>...</th>\n",
              "      <td>...</td>\n",
              "      <td>...</td>\n",
              "      <td>...</td>\n",
              "      <td>...</td>\n",
              "      <td>...</td>\n",
              "      <td>...</td>\n",
              "      <td>...</td>\n",
              "      <td>...</td>\n",
              "      <td>...</td>\n",
              "      <td>...</td>\n",
              "      <td>...</td>\n",
              "      <td>...</td>\n",
              "      <td>...</td>\n",
              "      <td>...</td>\n",
              "      <td>...</td>\n",
              "      <td>...</td>\n",
              "      <td>...</td>\n",
              "      <td>...</td>\n",
              "      <td>...</td>\n",
              "      <td>...</td>\n",
              "    </tr>\n",
              "    <tr>\n",
              "      <th>4109</th>\n",
              "      <td>4109</td>\n",
              "      <td>Jack the Lad</td>\n",
              "      <td>Jack the Lad - a new play that explores how fa...</td>\n",
              "      <td>500.0</td>\n",
              "      <td>0.00</td>\n",
              "      <td>failed</td>\n",
              "      <td>GB</td>\n",
              "      <td>GBP</td>\n",
              "      <td>2015-11-29 13:56:44</td>\n",
              "      <td>2015-10-30 12:56:44</td>\n",
              "      <td>False</td>\n",
              "      <td>0</td>\n",
              "      <td>False</td>\n",
              "      <td>theater/plays</td>\n",
              "      <td>Europe</td>\n",
              "      <td>4</td>\n",
              "      <td>30</td>\n",
              "      <td>2015</td>\n",
              "      <td>theater</td>\n",
              "      <td>plays</td>\n",
              "    </tr>\n",
              "    <tr>\n",
              "      <th>4110</th>\n",
              "      <td>4110</td>\n",
              "      <td>Take Tartuffe to Edinburgh Fringe Festival!</td>\n",
              "      <td>Set in the height of sex, drugs and rock 'n' r...</td>\n",
              "      <td>300.0</td>\n",
              "      <td>86.00</td>\n",
              "      <td>failed</td>\n",
              "      <td>GB</td>\n",
              "      <td>GBP</td>\n",
              "      <td>2016-07-21 15:02:31</td>\n",
              "      <td>2016-05-22 15:02:31</td>\n",
              "      <td>False</td>\n",
              "      <td>6</td>\n",
              "      <td>False</td>\n",
              "      <td>theater/plays</td>\n",
              "      <td>Europe</td>\n",
              "      <td>2</td>\n",
              "      <td>60</td>\n",
              "      <td>2016</td>\n",
              "      <td>theater</td>\n",
              "      <td>plays</td>\n",
              "    </tr>\n",
              "    <tr>\n",
              "      <th>4111</th>\n",
              "      <td>4111</td>\n",
              "      <td>REBORN IN LOVE</td>\n",
              "      <td>REBORN IN LOVE is the sequel to REBORN FROM AB...</td>\n",
              "      <td>3000.0</td>\n",
              "      <td>94.00</td>\n",
              "      <td>failed</td>\n",
              "      <td>US</td>\n",
              "      <td>USD</td>\n",
              "      <td>2015-02-24 03:15:40</td>\n",
              "      <td>2015-01-25 03:15:40</td>\n",
              "      <td>False</td>\n",
              "      <td>6</td>\n",
              "      <td>False</td>\n",
              "      <td>theater/plays</td>\n",
              "      <td>North America</td>\n",
              "      <td>1</td>\n",
              "      <td>30</td>\n",
              "      <td>2015</td>\n",
              "      <td>theater</td>\n",
              "      <td>plays</td>\n",
              "    </tr>\n",
              "    <tr>\n",
              "      <th>4112</th>\n",
              "      <td>4112</td>\n",
              "      <td>A Great New Controversial Play - \"The Divide\".</td>\n",
              "      <td>Set in Southern America â€œThe Divideâ€ is a ...</td>\n",
              "      <td>2500.0</td>\n",
              "      <td>1.00</td>\n",
              "      <td>failed</td>\n",
              "      <td>IE</td>\n",
              "      <td>EUR</td>\n",
              "      <td>2016-02-28 00:00:00</td>\n",
              "      <td>2016-01-31 22:43:06</td>\n",
              "      <td>False</td>\n",
              "      <td>1</td>\n",
              "      <td>False</td>\n",
              "      <td>theater/plays</td>\n",
              "      <td>Europe</td>\n",
              "      <td>1</td>\n",
              "      <td>27</td>\n",
              "      <td>2016</td>\n",
              "      <td>theater</td>\n",
              "      <td>plays</td>\n",
              "    </tr>\n",
              "    <tr>\n",
              "      <th>4113</th>\n",
              "      <td>4113</td>\n",
              "      <td>The Toy Box by Anthony H. Wallace</td>\n",
              "      <td>A family oriented play about Christians &amp; the ...</td>\n",
              "      <td>1500.0</td>\n",
              "      <td>3.00</td>\n",
              "      <td>failed</td>\n",
              "      <td>US</td>\n",
              "      <td>USD</td>\n",
              "      <td>2016-01-08 06:34:00</td>\n",
              "      <td>2015-12-20 13:45:23</td>\n",
              "      <td>False</td>\n",
              "      <td>3</td>\n",
              "      <td>False</td>\n",
              "      <td>theater/plays</td>\n",
              "      <td>North America</td>\n",
              "      <td>4</td>\n",
              "      <td>18</td>\n",
              "      <td>2015</td>\n",
              "      <td>theater</td>\n",
              "      <td>plays</td>\n",
              "    </tr>\n",
              "  </tbody>\n",
              "</table>\n",
              "<p>1066 rows × 20 columns</p>\n",
              "</div>\n",
              "      <button class=\"colab-df-convert\" onclick=\"convertToInteractive('df-3b0cb262-cbad-4544-9afd-df4cb430d508')\"\n",
              "              title=\"Convert this dataframe to an interactive table.\"\n",
              "              style=\"display:none;\">\n",
              "        \n",
              "  <svg xmlns=\"http://www.w3.org/2000/svg\" height=\"24px\"viewBox=\"0 0 24 24\"\n",
              "       width=\"24px\">\n",
              "    <path d=\"M0 0h24v24H0V0z\" fill=\"none\"/>\n",
              "    <path d=\"M18.56 5.44l.94 2.06.94-2.06 2.06-.94-2.06-.94-.94-2.06-.94 2.06-2.06.94zm-11 1L8.5 8.5l.94-2.06 2.06-.94-2.06-.94L8.5 2.5l-.94 2.06-2.06.94zm10 10l.94 2.06.94-2.06 2.06-.94-2.06-.94-.94-2.06-.94 2.06-2.06.94z\"/><path d=\"M17.41 7.96l-1.37-1.37c-.4-.4-.92-.59-1.43-.59-.52 0-1.04.2-1.43.59L10.3 9.45l-7.72 7.72c-.78.78-.78 2.05 0 2.83L4 21.41c.39.39.9.59 1.41.59.51 0 1.02-.2 1.41-.59l7.78-7.78 2.81-2.81c.8-.78.8-2.07 0-2.86zM5.41 20L4 18.59l7.72-7.72 1.47 1.35L5.41 20z\"/>\n",
              "  </svg>\n",
              "      </button>\n",
              "      \n",
              "  <style>\n",
              "    .colab-df-container {\n",
              "      display:flex;\n",
              "      flex-wrap:wrap;\n",
              "      gap: 12px;\n",
              "    }\n",
              "\n",
              "    .colab-df-convert {\n",
              "      background-color: #E8F0FE;\n",
              "      border: none;\n",
              "      border-radius: 50%;\n",
              "      cursor: pointer;\n",
              "      display: none;\n",
              "      fill: #1967D2;\n",
              "      height: 32px;\n",
              "      padding: 0 0 0 0;\n",
              "      width: 32px;\n",
              "    }\n",
              "\n",
              "    .colab-df-convert:hover {\n",
              "      background-color: #E2EBFA;\n",
              "      box-shadow: 0px 1px 2px rgba(60, 64, 67, 0.3), 0px 1px 3px 1px rgba(60, 64, 67, 0.15);\n",
              "      fill: #174EA6;\n",
              "    }\n",
              "\n",
              "    [theme=dark] .colab-df-convert {\n",
              "      background-color: #3B4455;\n",
              "      fill: #D2E3FC;\n",
              "    }\n",
              "\n",
              "    [theme=dark] .colab-df-convert:hover {\n",
              "      background-color: #434B5C;\n",
              "      box-shadow: 0px 1px 3px 1px rgba(0, 0, 0, 0.15);\n",
              "      filter: drop-shadow(0px 1px 2px rgba(0, 0, 0, 0.3));\n",
              "      fill: #FFFFFF;\n",
              "    }\n",
              "  </style>\n",
              "\n",
              "      <script>\n",
              "        const buttonEl =\n",
              "          document.querySelector('#df-3b0cb262-cbad-4544-9afd-df4cb430d508 button.colab-df-convert');\n",
              "        buttonEl.style.display =\n",
              "          google.colab.kernel.accessAllowed ? 'block' : 'none';\n",
              "\n",
              "        async function convertToInteractive(key) {\n",
              "          const element = document.querySelector('#df-3b0cb262-cbad-4544-9afd-df4cb430d508');\n",
              "          const dataTable =\n",
              "            await google.colab.kernel.invokeFunction('convertToInteractive',\n",
              "                                                     [key], {});\n",
              "          if (!dataTable) return;\n",
              "\n",
              "          const docLinkHtml = 'Like what you see? Visit the ' +\n",
              "            '<a target=\"_blank\" href=https://colab.research.google.com/notebooks/data_table.ipynb>data table notebook</a>'\n",
              "            + ' to learn more about interactive tables.';\n",
              "          element.innerHTML = '';\n",
              "          dataTable['output_type'] = 'display_data';\n",
              "          await google.colab.output.renderOutput(dataTable, element);\n",
              "          const docLink = document.createElement('div');\n",
              "          docLink.innerHTML = docLinkHtml;\n",
              "          element.appendChild(docLink);\n",
              "        }\n",
              "      </script>\n",
              "    </div>\n",
              "  </div>\n",
              "  "
            ],
            "text/plain": [
              "        id  ... Sub-Category\n",
              "520    520  ...        plays\n",
              "521    521  ...        plays\n",
              "522    522  ...        plays\n",
              "523    523  ...        plays\n",
              "524    524  ...        plays\n",
              "...    ...  ...          ...\n",
              "4109  4109  ...        plays\n",
              "4110  4110  ...        plays\n",
              "4111  4111  ...        plays\n",
              "4112  4112  ...        plays\n",
              "4113  4113  ...        plays\n",
              "\n",
              "[1066 rows x 20 columns]"
            ]
          },
          "metadata": {},
          "execution_count": 171
        }
      ]
    },
    {
      "cell_type": "markdown",
      "source": [
        "**Plays** *sub category* form theater turn out to be the one with most num. campaign with 1066 campaigns\n"
      ],
      "metadata": {
        "id": "Il3xpxaqLcJT"
      }
    },
    {
      "cell_type": "code",
      "source": [
        ""
      ],
      "metadata": {
        "id": "wI05XwxML8l1"
      },
      "execution_count": 171,
      "outputs": []
    },
    {
      "cell_type": "code",
      "source": [
        "df['launched year'].value_counts()\n"
      ],
      "metadata": {
        "colab": {
          "base_uri": "https://localhost:8080/"
        },
        "id": "5xh-UDtOL85T",
        "outputId": "6aebf66f-139d-410c-9c1a-13193a0d8638"
      },
      "execution_count": 172,
      "outputs": [
        {
          "output_type": "execute_result",
          "data": {
            "text/plain": [
              "2015    1224\n",
              "2014     976\n",
              "2016     950\n",
              "2012     282\n",
              "2013     274\n",
              "2011     171\n",
              "2017     157\n",
              "2010      65\n",
              "2009      14\n",
              "Name: launched year, dtype: int64"
            ]
          },
          "metadata": {},
          "execution_count": 172
        }
      ]
    },
    {
      "cell_type": "code",
      "source": [
        "# lets have a look at the continent distribution\n",
        "\n",
        "continent = df['Continent'].value_counts()\n",
        "plt.figure(figsize=(9,7),dpi=90)\n",
        "\n",
        "sns.barplot(y=continent.values,x=continent.index)\n",
        "\n",
        "print('The continent having the most num. of kickstarter campaings is',continent.index[0],'with',continent.values[0],'campaigns')"
      ],
      "metadata": {
        "colab": {
          "base_uri": "https://localhost:8080/",
          "height": 549
        },
        "id": "LMUvMhFzTuGl",
        "outputId": "6a546d72-6e97-45ce-c575-257f9e4c2408"
      },
      "execution_count": 173,
      "outputs": [
        {
          "output_type": "stream",
          "name": "stdout",
          "text": [
            "The continent having the most num. of kickstarter campaings is North America with 3195 campaigns\n"
          ]
        },
        {
          "output_type": "display_data",
          "data": {
            "image/png": "[encoded data removed]",
            "text/plain": [
              "<Figure size 810x630 with 1 Axes>"
            ]
          },
          "metadata": {}
        }
      ]
    },
    {
      "cell_type": "code",
      "source": [
        ""
      ],
      "metadata": {
        "id": "XOrpOBWwWB-Q"
      },
      "execution_count": 173,
      "outputs": []
    },
    {
      "cell_type": "code",
      "source": [
        "#lets have a look on the currency distribution\n",
        "curr = df['currency'].value_counts()\n",
        "plt.figure(figsize=(9,7),dpi=90)\n",
        "sns.barplot(y=curr.values,x=curr.index,palette='viridis')\n",
        "\n",
        "print('The most used currency for pledging is:-',curr.index[0])"
      ],
      "metadata": {
        "colab": {
          "base_uri": "https://localhost:8080/",
          "height": 549
        },
        "id": "1cET5huvVrRx",
        "outputId": "e202ec3f-5ded-4a6e-bf4f-d8161742395b"
      },
      "execution_count": 174,
      "outputs": [
        {
          "output_type": "stream",
          "name": "stdout",
          "text": [
            "The most used currency for pledging is:- USD\n"
          ]
        },
        {
          "output_type": "display_data",
          "data": {
            "image/png": "[encoded data removed]",
            "text/plain": [
              "<Figure size 810x630 with 1 Axes>"
            ]
          },
          "metadata": {}
        }
      ]
    },
    {
      "cell_type": "code",
      "source": [
        ""
      ],
      "metadata": {
        "id": "N5Mnjzd6kj56"
      },
      "execution_count": 174,
      "outputs": []
    },
    {
      "cell_type": "code",
      "source": [
        "# most pledged compaign in the world \n",
        "most_pledged_status = df[df['state'] == 'successful']\n",
        "most_pledged = most_pledged_status.groupby('Category')['pledged'].sum().to_frame().reset_index().sort_values('pledged', ascending = False).head(30).set_index('Category')\n",
        "most_pledged.head()"
      ],
      "metadata": {
        "colab": {
          "base_uri": "https://localhost:8080/",
          "height": 238
        },
        "id": "cCK6AAskO-iE",
        "outputId": "7ac0148a-779f-4ad0-c18d-7123b09af650"
      },
      "execution_count": 175,
      "outputs": [
        {
          "output_type": "execute_result",
          "data": {
            "text/html": [
              "\n",
              "  <div id=\"df-ccea89c9-b554-43b1-a17c-1e940e8b8785\">\n",
              "    <div class=\"colab-df-container\">\n",
              "      <div>\n",
              "<style scoped>\n",
              "    .dataframe tbody tr th:only-of-type {\n",
              "        vertical-align: middle;\n",
              "    }\n",
              "\n",
              "    .dataframe tbody tr th {\n",
              "        vertical-align: top;\n",
              "    }\n",
              "\n",
              "    .dataframe thead th {\n",
              "        text-align: right;\n",
              "    }\n",
              "</style>\n",
              "<table border=\"1\" class=\"dataframe\">\n",
              "  <thead>\n",
              "    <tr style=\"text-align: right;\">\n",
              "      <th></th>\n",
              "      <th>pledged</th>\n",
              "    </tr>\n",
              "    <tr>\n",
              "      <th>Category</th>\n",
              "      <th></th>\n",
              "    </tr>\n",
              "  </thead>\n",
              "  <tbody>\n",
              "    <tr>\n",
              "      <th>technology</th>\n",
              "      <td>19665020.16</td>\n",
              "    </tr>\n",
              "    <tr>\n",
              "      <th>film &amp; video</th>\n",
              "      <td>5313576.17</td>\n",
              "    </tr>\n",
              "    <tr>\n",
              "      <th>theater</th>\n",
              "      <td>5115585.38</td>\n",
              "    </tr>\n",
              "    <tr>\n",
              "      <th>music</th>\n",
              "      <td>3147611.64</td>\n",
              "    </tr>\n",
              "    <tr>\n",
              "      <th>games</th>\n",
              "      <td>2791408.56</td>\n",
              "    </tr>\n",
              "  </tbody>\n",
              "</table>\n",
              "</div>\n",
              "      <button class=\"colab-df-convert\" onclick=\"convertToInteractive('df-ccea89c9-b554-43b1-a17c-1e940e8b8785')\"\n",
              "              title=\"Convert this dataframe to an interactive table.\"\n",
              "              style=\"display:none;\">\n",
              "        \n",
              "  <svg xmlns=\"http://www.w3.org/2000/svg\" height=\"24px\"viewBox=\"0 0 24 24\"\n",
              "       width=\"24px\">\n",
              "    <path d=\"M0 0h24v24H0V0z\" fill=\"none\"/>\n",
              "    <path d=\"M18.56 5.44l.94 2.06.94-2.06 2.06-.94-2.06-.94-.94-2.06-.94 2.06-2.06.94zm-11 1L8.5 8.5l.94-2.06 2.06-.94-2.06-.94L8.5 2.5l-.94 2.06-2.06.94zm10 10l.94 2.06.94-2.06 2.06-.94-2.06-.94-.94-2.06-.94 2.06-2.06.94z\"/><path d=\"M17.41 7.96l-1.37-1.37c-.4-.4-.92-.59-1.43-.59-.52 0-1.04.2-1.43.59L10.3 9.45l-7.72 7.72c-.78.78-.78 2.05 0 2.83L4 21.41c.39.39.9.59 1.41.59.51 0 1.02-.2 1.41-.59l7.78-7.78 2.81-2.81c.8-.78.8-2.07 0-2.86zM5.41 20L4 18.59l7.72-7.72 1.47 1.35L5.41 20z\"/>\n",
              "  </svg>\n",
              "      </button>\n",
              "      \n",
              "  <style>\n",
              "    .colab-df-container {\n",
              "      display:flex;\n",
              "      flex-wrap:wrap;\n",
              "      gap: 12px;\n",
              "    }\n",
              "\n",
              "    .colab-df-convert {\n",
              "      background-color: #E8F0FE;\n",
              "      border: none;\n",
              "      border-radius: 50%;\n",
              "      cursor: pointer;\n",
              "      display: none;\n",
              "      fill: #1967D2;\n",
              "      height: 32px;\n",
              "      padding: 0 0 0 0;\n",
              "      width: 32px;\n",
              "    }\n",
              "\n",
              "    .colab-df-convert:hover {\n",
              "      background-color: #E2EBFA;\n",
              "      box-shadow: 0px 1px 2px rgba(60, 64, 67, 0.3), 0px 1px 3px 1px rgba(60, 64, 67, 0.15);\n",
              "      fill: #174EA6;\n",
              "    }\n",
              "\n",
              "    [theme=dark] .colab-df-convert {\n",
              "      background-color: #3B4455;\n",
              "      fill: #D2E3FC;\n",
              "    }\n",
              "\n",
              "    [theme=dark] .colab-df-convert:hover {\n",
              "      background-color: #434B5C;\n",
              "      box-shadow: 0px 1px 3px 1px rgba(0, 0, 0, 0.15);\n",
              "      filter: drop-shadow(0px 1px 2px rgba(0, 0, 0, 0.3));\n",
              "      fill: #FFFFFF;\n",
              "    }\n",
              "  </style>\n",
              "\n",
              "      <script>\n",
              "        const buttonEl =\n",
              "          document.querySelector('#df-ccea89c9-b554-43b1-a17c-1e940e8b8785 button.colab-df-convert');\n",
              "        buttonEl.style.display =\n",
              "          google.colab.kernel.accessAllowed ? 'block' : 'none';\n",
              "\n",
              "        async function convertToInteractive(key) {\n",
              "          const element = document.querySelector('#df-ccea89c9-b554-43b1-a17c-1e940e8b8785');\n",
              "          const dataTable =\n",
              "            await google.colab.kernel.invokeFunction('convertToInteractive',\n",
              "                                                     [key], {});\n",
              "          if (!dataTable) return;\n",
              "\n",
              "          const docLinkHtml = 'Like what you see? Visit the ' +\n",
              "            '<a target=\"_blank\" href=https://colab.research.google.com/notebooks/data_table.ipynb>data table notebook</a>'\n",
              "            + ' to learn more about interactive tables.';\n",
              "          element.innerHTML = '';\n",
              "          dataTable['output_type'] = 'display_data';\n",
              "          await google.colab.output.renderOutput(dataTable, element);\n",
              "          const docLink = document.createElement('div');\n",
              "          docLink.innerHTML = docLinkHtml;\n",
              "          element.appendChild(docLink);\n",
              "        }\n",
              "      </script>\n",
              "    </div>\n",
              "  </div>\n",
              "  "
            ],
            "text/plain": [
              "                  pledged\n",
              "Category                 \n",
              "technology    19665020.16\n",
              "film & video   5313576.17\n",
              "theater        5115585.38\n",
              "music          3147611.64\n",
              "games          2791408.56"
            ]
          },
          "metadata": {},
          "execution_count": 175
        }
      ]
    },
    {
      "cell_type": "markdown",
      "source": [
        "**Technology** is the most plaged campaign in the world"
      ],
      "metadata": {
        "id": "tDlXYN0Qkxdo"
      }
    },
    {
      "cell_type": "code",
      "source": [
        ""
      ],
      "metadata": {
        "id": "eMQW986qWAcw"
      },
      "execution_count": 175,
      "outputs": []
    },
    {
      "cell_type": "code",
      "source": [
        "#success rate of campaigns\n",
        "\n",
        "plt.figure(figsize=(9,7),dpi=100)\n",
        "\n",
        "sns.countplot(data=df,y='Category',hue='state')"
      ],
      "metadata": {
        "colab": {
          "base_uri": "https://localhost:8080/",
          "height": 625
        },
        "id": "pVjKCRsLV_XR",
        "outputId": "ac85d87a-9aed-421d-989a-3f6071f8b65a"
      },
      "execution_count": 176,
      "outputs": [
        {
          "output_type": "execute_result",
          "data": {
            "text/plain": [
              "<matplotlib.axes._subplots.AxesSubplot at 0x7f9126eced10>"
            ]
          },
          "metadata": {},
          "execution_count": 176
        },
        {
          "output_type": "display_data",
          "data": {
            "image/png": "[encoded data removed]",
            "text/plain": [
              "<Figure size 900x700 with 1 Axes>"
            ]
          },
          "metadata": {}
        }
      ]
    },
    {
      "cell_type": "markdown",
      "source": [
        "All over the world **theater** is most successful category and also seems to be most failed. "
      ],
      "metadata": {
        "id": "pyLS-L_paB6f"
      }
    },
    {
      "cell_type": "code",
      "source": [
        "\n",
        "\n"
      ],
      "metadata": {
        "id": "Wu1BBwlEd8Wc"
      },
      "execution_count": 176,
      "outputs": []
    },
    {
      "cell_type": "markdown",
      "source": [
        "## Data from Europe"
      ],
      "metadata": {
        "id": "YXA8VrXcItrW"
      }
    },
    {
      "cell_type": "code",
      "source": [
        "success_projects = df[df['state'] == 'successful']"
      ],
      "metadata": {
        "id": "1TUGG8gNeP39"
      },
      "execution_count": 177,
      "outputs": []
    },
    {
      "cell_type": "code",
      "source": [
        "eu_success_ks = success_projects[success_projects['Continent'] == 'Europe']\n"
      ],
      "metadata": {
        "id": "3dyPrJl2acDr"
      },
      "execution_count": 178,
      "outputs": []
    },
    {
      "cell_type": "code",
      "source": [
        "eu_success_ks.head()"
      ],
      "metadata": {
        "colab": {
          "base_uri": "https://localhost:8080/",
          "height": 704
        },
        "id": "6tKoLheTeocy",
        "outputId": "4e9989cc-9c2a-4f7f-cbb2-7341ae19faa4"
      },
      "execution_count": 179,
      "outputs": [
        {
          "output_type": "execute_result",
          "data": {
            "text/html": [
              "\n",
              "  <div id=\"df-9bea134b-229b-4f07-8c7a-d13628539695\">\n",
              "    <div class=\"colab-df-container\">\n",
              "      <div>\n",
              "<style scoped>\n",
              "    .dataframe tbody tr th:only-of-type {\n",
              "        vertical-align: middle;\n",
              "    }\n",
              "\n",
              "    .dataframe tbody tr th {\n",
              "        vertical-align: top;\n",
              "    }\n",
              "\n",
              "    .dataframe thead th {\n",
              "        text-align: right;\n",
              "    }\n",
              "</style>\n",
              "<table border=\"1\" class=\"dataframe\">\n",
              "  <thead>\n",
              "    <tr style=\"text-align: right;\">\n",
              "      <th></th>\n",
              "      <th>id</th>\n",
              "      <th>name</th>\n",
              "      <th>blurb</th>\n",
              "      <th>goal</th>\n",
              "      <th>pledged</th>\n",
              "      <th>state</th>\n",
              "      <th>country</th>\n",
              "      <th>currency</th>\n",
              "      <th>deadline</th>\n",
              "      <th>launched_at</th>\n",
              "      <th>staff_pick</th>\n",
              "      <th>backers_count</th>\n",
              "      <th>spotlight</th>\n",
              "      <th>Category and Sub-Category</th>\n",
              "      <th>Continent</th>\n",
              "      <th>quarter</th>\n",
              "      <th>campaign span days</th>\n",
              "      <th>launched year</th>\n",
              "      <th>Category</th>\n",
              "      <th>Sub-Category</th>\n",
              "    </tr>\n",
              "  </thead>\n",
              "  <tbody>\n",
              "    <tr>\n",
              "      <th>2</th>\n",
              "      <td>2</td>\n",
              "      <td>Charlie teaser completion</td>\n",
              "      <td>Completion fund for post-production for teaser...</td>\n",
              "      <td>500.0</td>\n",
              "      <td>525.0</td>\n",
              "      <td>successful</td>\n",
              "      <td>GB</td>\n",
              "      <td>GBP</td>\n",
              "      <td>2016-02-15 16:51:23</td>\n",
              "      <td>2016-02-05 16:51:23</td>\n",
              "      <td>False</td>\n",
              "      <td>35</td>\n",
              "      <td>True</td>\n",
              "      <td>film &amp; video/television</td>\n",
              "      <td>Europe</td>\n",
              "      <td>1</td>\n",
              "      <td>10</td>\n",
              "      <td>2016</td>\n",
              "      <td>film &amp; video</td>\n",
              "      <td>television</td>\n",
              "    </tr>\n",
              "    <tr>\n",
              "      <th>15</th>\n",
              "      <td>15</td>\n",
              "      <td>Cien&amp;Cia</td>\n",
              "      <td>Cien&amp;Cia es un proyecto transmedia para televi...</td>\n",
              "      <td>2000.0</td>\n",
              "      <td>2132.0</td>\n",
              "      <td>successful</td>\n",
              "      <td>ES</td>\n",
              "      <td>EUR</td>\n",
              "      <td>2015-09-27 20:14:00</td>\n",
              "      <td>2015-09-09 09:24:18</td>\n",
              "      <td>False</td>\n",
              "      <td>98</td>\n",
              "      <td>True</td>\n",
              "      <td>film &amp; video/television</td>\n",
              "      <td>Europe</td>\n",
              "      <td>3</td>\n",
              "      <td>18</td>\n",
              "      <td>2015</td>\n",
              "      <td>film &amp; video</td>\n",
              "      <td>television</td>\n",
              "    </tr>\n",
              "    <tr>\n",
              "      <th>17</th>\n",
              "      <td>17</td>\n",
              "      <td>Humble Pie</td>\n",
              "      <td>Uplifting English sitcom, a love letter to you...</td>\n",
              "      <td>1500.0</td>\n",
              "      <td>1510.0</td>\n",
              "      <td>successful</td>\n",
              "      <td>GB</td>\n",
              "      <td>GBP</td>\n",
              "      <td>2014-11-04 18:33:42</td>\n",
              "      <td>2014-10-05 17:33:42</td>\n",
              "      <td>False</td>\n",
              "      <td>36</td>\n",
              "      <td>True</td>\n",
              "      <td>film &amp; video/television</td>\n",
              "      <td>Europe</td>\n",
              "      <td>4</td>\n",
              "      <td>30</td>\n",
              "      <td>2014</td>\n",
              "      <td>film &amp; video</td>\n",
              "      <td>television</td>\n",
              "    </tr>\n",
              "    <tr>\n",
              "      <th>29</th>\n",
              "      <td>29</td>\n",
              "      <td>The JOB Prelude.</td>\n",
              "      <td>Genuine, no cliche Cop dramedy. Stories based ...</td>\n",
              "      <td>3000.0</td>\n",
              "      <td>3700.0</td>\n",
              "      <td>successful</td>\n",
              "      <td>GB</td>\n",
              "      <td>GBP</td>\n",
              "      <td>2014-07-22 16:09:28</td>\n",
              "      <td>2014-06-22 16:09:28</td>\n",
              "      <td>False</td>\n",
              "      <td>117</td>\n",
              "      <td>True</td>\n",
              "      <td>film &amp; video/television</td>\n",
              "      <td>Europe</td>\n",
              "      <td>2</td>\n",
              "      <td>30</td>\n",
              "      <td>2014</td>\n",
              "      <td>film &amp; video</td>\n",
              "      <td>television</td>\n",
              "    </tr>\n",
              "    <tr>\n",
              "      <th>39</th>\n",
              "      <td>39</td>\n",
              "      <td>Deep Cuts - Series</td>\n",
              "      <td>Mystery-Drama Series. Following a shocking eve...</td>\n",
              "      <td>25000.0</td>\n",
              "      <td>32745.0</td>\n",
              "      <td>successful</td>\n",
              "      <td>GB</td>\n",
              "      <td>GBP</td>\n",
              "      <td>2014-05-25 22:59:00</td>\n",
              "      <td>2014-04-25 01:07:48</td>\n",
              "      <td>False</td>\n",
              "      <td>217</td>\n",
              "      <td>True</td>\n",
              "      <td>film &amp; video/television</td>\n",
              "      <td>Europe</td>\n",
              "      <td>2</td>\n",
              "      <td>30</td>\n",
              "      <td>2014</td>\n",
              "      <td>film &amp; video</td>\n",
              "      <td>television</td>\n",
              "    </tr>\n",
              "  </tbody>\n",
              "</table>\n",
              "</div>\n",
              "      <button class=\"colab-df-convert\" onclick=\"convertToInteractive('df-9bea134b-229b-4f07-8c7a-d13628539695')\"\n",
              "              title=\"Convert this dataframe to an interactive table.\"\n",
              "              style=\"display:none;\">\n",
              "        \n",
              "  <svg xmlns=\"http://www.w3.org/2000/svg\" height=\"24px\"viewBox=\"0 0 24 24\"\n",
              "       width=\"24px\">\n",
              "    <path d=\"M0 0h24v24H0V0z\" fill=\"none\"/>\n",
              "    <path d=\"M18.56 5.44l.94 2.06.94-2.06 2.06-.94-2.06-.94-.94-2.06-.94 2.06-2.06.94zm-11 1L8.5 8.5l.94-2.06 2.06-.94-2.06-.94L8.5 2.5l-.94 2.06-2.06.94zm10 10l.94 2.06.94-2.06 2.06-.94-2.06-.94-.94-2.06-.94 2.06-2.06.94z\"/><path d=\"M17.41 7.96l-1.37-1.37c-.4-.4-.92-.59-1.43-.59-.52 0-1.04.2-1.43.59L10.3 9.45l-7.72 7.72c-.78.78-.78 2.05 0 2.83L4 21.41c.39.39.9.59 1.41.59.51 0 1.02-.2 1.41-.59l7.78-7.78 2.81-2.81c.8-.78.8-2.07 0-2.86zM5.41 20L4 18.59l7.72-7.72 1.47 1.35L5.41 20z\"/>\n",
              "  </svg>\n",
              "      </button>\n",
              "      \n",
              "  <style>\n",
              "    .colab-df-container {\n",
              "      display:flex;\n",
              "      flex-wrap:wrap;\n",
              "      gap: 12px;\n",
              "    }\n",
              "\n",
              "    .colab-df-convert {\n",
              "      background-color: #E8F0FE;\n",
              "      border: none;\n",
              "      border-radius: 50%;\n",
              "      cursor: pointer;\n",
              "      display: none;\n",
              "      fill: #1967D2;\n",
              "      height: 32px;\n",
              "      padding: 0 0 0 0;\n",
              "      width: 32px;\n",
              "    }\n",
              "\n",
              "    .colab-df-convert:hover {\n",
              "      background-color: #E2EBFA;\n",
              "      box-shadow: 0px 1px 2px rgba(60, 64, 67, 0.3), 0px 1px 3px 1px rgba(60, 64, 67, 0.15);\n",
              "      fill: #174EA6;\n",
              "    }\n",
              "\n",
              "    [theme=dark] .colab-df-convert {\n",
              "      background-color: #3B4455;\n",
              "      fill: #D2E3FC;\n",
              "    }\n",
              "\n",
              "    [theme=dark] .colab-df-convert:hover {\n",
              "      background-color: #434B5C;\n",
              "      box-shadow: 0px 1px 3px 1px rgba(0, 0, 0, 0.15);\n",
              "      filter: drop-shadow(0px 1px 2px rgba(0, 0, 0, 0.3));\n",
              "      fill: #FFFFFF;\n",
              "    }\n",
              "  </style>\n",
              "\n",
              "      <script>\n",
              "        const buttonEl =\n",
              "          document.querySelector('#df-9bea134b-229b-4f07-8c7a-d13628539695 button.colab-df-convert');\n",
              "        buttonEl.style.display =\n",
              "          google.colab.kernel.accessAllowed ? 'block' : 'none';\n",
              "\n",
              "        async function convertToInteractive(key) {\n",
              "          const element = document.querySelector('#df-9bea134b-229b-4f07-8c7a-d13628539695');\n",
              "          const dataTable =\n",
              "            await google.colab.kernel.invokeFunction('convertToInteractive',\n",
              "                                                     [key], {});\n",
              "          if (!dataTable) return;\n",
              "\n",
              "          const docLinkHtml = 'Like what you see? Visit the ' +\n",
              "            '<a target=\"_blank\" href=https://colab.research.google.com/notebooks/data_table.ipynb>data table notebook</a>'\n",
              "            + ' to learn more about interactive tables.';\n",
              "          element.innerHTML = '';\n",
              "          dataTable['output_type'] = 'display_data';\n",
              "          await google.colab.output.renderOutput(dataTable, element);\n",
              "          const docLink = document.createElement('div');\n",
              "          docLink.innerHTML = docLinkHtml;\n",
              "          element.appendChild(docLink);\n",
              "        }\n",
              "      </script>\n",
              "    </div>\n",
              "  </div>\n",
              "  "
            ],
            "text/plain": [
              "    id                       name  ...      Category  Sub-Category\n",
              "2    2  Charlie teaser completion  ...  film & video    television\n",
              "15  15                   Cien&Cia  ...  film & video    television\n",
              "17  17                 Humble Pie  ...  film & video    television\n",
              "29  29           The JOB Prelude.  ...  film & video    television\n",
              "39  39         Deep Cuts - Series  ...  film & video    television\n",
              "\n",
              "[5 rows x 20 columns]"
            ]
          },
          "metadata": {},
          "execution_count": 179
        }
      ]
    },
    {
      "cell_type": "code",
      "source": [
        "eu_success_ks['launched year'].value_counts()\n"
      ],
      "metadata": {
        "colab": {
          "base_uri": "https://localhost:8080/"
        },
        "id": "3kxYVll9fZSV",
        "outputId": "c3d93cd4-3538-49fc-b68e-df836486c629"
      },
      "execution_count": 180,
      "outputs": [
        {
          "output_type": "execute_result",
          "data": {
            "text/plain": [
              "2015    167\n",
              "2016    149\n",
              "2014     93\n",
              "2013     18\n",
              "2017     17\n",
              "2012      3\n",
              "Name: launched year, dtype: int64"
            ]
          },
          "metadata": {},
          "execution_count": 180
        }
      ]
    },
    {
      "cell_type": "code",
      "source": [
        "eu_success_ks['quarter'].value_counts()"
      ],
      "metadata": {
        "colab": {
          "base_uri": "https://localhost:8080/"
        },
        "id": "Y33oxsrnvj1p",
        "outputId": "57b9aa03-101f-485e-8ed6-233e04f71f12"
      },
      "execution_count": 181,
      "outputs": [
        {
          "output_type": "execute_result",
          "data": {
            "text/plain": [
              "2    154\n",
              "1    111\n",
              "3     92\n",
              "4     90\n",
              "Name: quarter, dtype: int64"
            ]
          },
          "metadata": {},
          "execution_count": 181
        }
      ]
    },
    {
      "cell_type": "markdown",
      "source": [
        "Most of the successfull projects in Europe were launched in the 2015\n",
        "Most of the successfull projects in Europe quarter was Q2\n",
        "\n",
        "\n"
      ],
      "metadata": {
        "id": "LKRfdcLMfdbb"
      }
    },
    {
      "cell_type": "code",
      "source": [
        ""
      ],
      "metadata": {
        "id": "9ZBUuWosfok7"
      },
      "execution_count": 181,
      "outputs": []
    },
    {
      "cell_type": "code",
      "source": [
        "plt.figure(figsize=(9,7),dpi=80)\n",
        "\n",
        "sns.countplot(data=eu_success_ks,x='launched year')\n",
        "\n",
        "plt.title('Launch year of Successful Kickstarter campaign in Europe');"
      ],
      "metadata": {
        "colab": {
          "base_uri": "https://localhost:8080/",
          "height": 504
        },
        "id": "JXElF6shfnUc",
        "outputId": "883e743a-4202-4072-f2fd-3baaba3629be"
      },
      "execution_count": 182,
      "outputs": [
        {
          "output_type": "display_data",
          "data": {
            "image/png": "[encoded data removed]",
            "text/plain": [
              "<Figure size 720x560 with 1 Axes>"
            ]
          },
          "metadata": {}
        }
      ]
    },
    {
      "cell_type": "code",
      "source": [
        "# Most successful category of KS campaigns in EU\n",
        "plt.figure(figsize=(9,7),dpi=100)\n",
        "eu_s_cat = eu_success_ks['Category'].value_counts()\n",
        "sns.barplot(x=eu_s_cat.values,y=eu_s_cat.index)\n",
        "\n",
        "plt.xlabel('Count')\n",
        "plt.ylabel('Campaign categories')\n",
        "plt.title('The most successfull campaigns categories in Europe');"
      ],
      "metadata": {
        "colab": {
          "base_uri": "https://localhost:8080/",
          "height": 631
        },
        "id": "0yuS7GwHf2rT",
        "outputId": "a7d29e05-6d6e-4399-a1da-0a771fd26dc7"
      },
      "execution_count": 183,
      "outputs": [
        {
          "output_type": "display_data",
          "data": {
            "image/png": "[encoded data removed]",
            "text/plain": [
              "<Figure size 900x700 with 1 Axes>"
            ]
          },
          "metadata": {}
        }
      ]
    },
    {
      "cell_type": "code",
      "source": [
        "only_success_status = df[df['state'] == 'successful']\n",
        "only_success_status_EU = only_success_status[only_success_status['Continent'] == 'Europe']\n",
        "most_pledged_cat_EU = only_success_status_EU.groupby('Category')['pledged'].sum().to_frame().reset_index().sort_values('pledged', ascending = False).head(30).set_index('Category')\n",
        "most_pledged_cat_EU.head()"
      ],
      "metadata": {
        "colab": {
          "base_uri": "https://localhost:8080/",
          "height": 238
        },
        "id": "aT_taR1CTUpq",
        "outputId": "283e1696-2cd4-4444-d3b0-3e50ef5d55a5"
      },
      "execution_count": 184,
      "outputs": [
        {
          "output_type": "execute_result",
          "data": {
            "text/html": [
              "\n",
              "  <div id=\"df-f251c101-0a25-424e-9139-6758a17683f9\">\n",
              "    <div class=\"colab-df-container\">\n",
              "      <div>\n",
              "<style scoped>\n",
              "    .dataframe tbody tr th:only-of-type {\n",
              "        vertical-align: middle;\n",
              "    }\n",
              "\n",
              "    .dataframe tbody tr th {\n",
              "        vertical-align: top;\n",
              "    }\n",
              "\n",
              "    .dataframe thead th {\n",
              "        text-align: right;\n",
              "    }\n",
              "</style>\n",
              "<table border=\"1\" class=\"dataframe\">\n",
              "  <thead>\n",
              "    <tr style=\"text-align: right;\">\n",
              "      <th></th>\n",
              "      <th>pledged</th>\n",
              "    </tr>\n",
              "    <tr>\n",
              "      <th>Category</th>\n",
              "      <th></th>\n",
              "    </tr>\n",
              "  </thead>\n",
              "  <tbody>\n",
              "    <tr>\n",
              "      <th>technology</th>\n",
              "      <td>4691972.73</td>\n",
              "    </tr>\n",
              "    <tr>\n",
              "      <th>photography</th>\n",
              "      <td>901226.03</td>\n",
              "    </tr>\n",
              "    <tr>\n",
              "      <th>theater</th>\n",
              "      <td>844515.99</td>\n",
              "    </tr>\n",
              "    <tr>\n",
              "      <th>games</th>\n",
              "      <td>593569.23</td>\n",
              "    </tr>\n",
              "    <tr>\n",
              "      <th>film &amp; video</th>\n",
              "      <td>244254.43</td>\n",
              "    </tr>\n",
              "  </tbody>\n",
              "</table>\n",
              "</div>\n",
              "      <button class=\"colab-df-convert\" onclick=\"convertToInteractive('df-f251c101-0a25-424e-9139-6758a17683f9')\"\n",
              "              title=\"Convert this dataframe to an interactive table.\"\n",
              "              style=\"display:none;\">\n",
              "        \n",
              "  <svg xmlns=\"http://www.w3.org/2000/svg\" height=\"24px\"viewBox=\"0 0 24 24\"\n",
              "       width=\"24px\">\n",
              "    <path d=\"M0 0h24v24H0V0z\" fill=\"none\"/>\n",
              "    <path d=\"M18.56 5.44l.94 2.06.94-2.06 2.06-.94-2.06-.94-.94-2.06-.94 2.06-2.06.94zm-11 1L8.5 8.5l.94-2.06 2.06-.94-2.06-.94L8.5 2.5l-.94 2.06-2.06.94zm10 10l.94 2.06.94-2.06 2.06-.94-2.06-.94-.94-2.06-.94 2.06-2.06.94z\"/><path d=\"M17.41 7.96l-1.37-1.37c-.4-.4-.92-.59-1.43-.59-.52 0-1.04.2-1.43.59L10.3 9.45l-7.72 7.72c-.78.78-.78 2.05 0 2.83L4 21.41c.39.39.9.59 1.41.59.51 0 1.02-.2 1.41-.59l7.78-7.78 2.81-2.81c.8-.78.8-2.07 0-2.86zM5.41 20L4 18.59l7.72-7.72 1.47 1.35L5.41 20z\"/>\n",
              "  </svg>\n",
              "      </button>\n",
              "      \n",
              "  <style>\n",
              "    .colab-df-container {\n",
              "      display:flex;\n",
              "      flex-wrap:wrap;\n",
              "      gap: 12px;\n",
              "    }\n",
              "\n",
              "    .colab-df-convert {\n",
              "      background-color: #E8F0FE;\n",
              "      border: none;\n",
              "      border-radius: 50%;\n",
              "      cursor: pointer;\n",
              "      display: none;\n",
              "      fill: #1967D2;\n",
              "      height: 32px;\n",
              "      padding: 0 0 0 0;\n",
              "      width: 32px;\n",
              "    }\n",
              "\n",
              "    .colab-df-convert:hover {\n",
              "      background-color: #E2EBFA;\n",
              "      box-shadow: 0px 1px 2px rgba(60, 64, 67, 0.3), 0px 1px 3px 1px rgba(60, 64, 67, 0.15);\n",
              "      fill: #174EA6;\n",
              "    }\n",
              "\n",
              "    [theme=dark] .colab-df-convert {\n",
              "      background-color: #3B4455;\n",
              "      fill: #D2E3FC;\n",
              "    }\n",
              "\n",
              "    [theme=dark] .colab-df-convert:hover {\n",
              "      background-color: #434B5C;\n",
              "      box-shadow: 0px 1px 3px 1px rgba(0, 0, 0, 0.15);\n",
              "      filter: drop-shadow(0px 1px 2px rgba(0, 0, 0, 0.3));\n",
              "      fill: #FFFFFF;\n",
              "    }\n",
              "  </style>\n",
              "\n",
              "      <script>\n",
              "        const buttonEl =\n",
              "          document.querySelector('#df-f251c101-0a25-424e-9139-6758a17683f9 button.colab-df-convert');\n",
              "        buttonEl.style.display =\n",
              "          google.colab.kernel.accessAllowed ? 'block' : 'none';\n",
              "\n",
              "        async function convertToInteractive(key) {\n",
              "          const element = document.querySelector('#df-f251c101-0a25-424e-9139-6758a17683f9');\n",
              "          const dataTable =\n",
              "            await google.colab.kernel.invokeFunction('convertToInteractive',\n",
              "                                                     [key], {});\n",
              "          if (!dataTable) return;\n",
              "\n",
              "          const docLinkHtml = 'Like what you see? Visit the ' +\n",
              "            '<a target=\"_blank\" href=https://colab.research.google.com/notebooks/data_table.ipynb>data table notebook</a>'\n",
              "            + ' to learn more about interactive tables.';\n",
              "          element.innerHTML = '';\n",
              "          dataTable['output_type'] = 'display_data';\n",
              "          await google.colab.output.renderOutput(dataTable, element);\n",
              "          const docLink = document.createElement('div');\n",
              "          docLink.innerHTML = docLinkHtml;\n",
              "          element.appendChild(docLink);\n",
              "        }\n",
              "      </script>\n",
              "    </div>\n",
              "  </div>\n",
              "  "
            ],
            "text/plain": [
              "                 pledged\n",
              "Category                \n",
              "technology    4691972.73\n",
              "photography    901226.03\n",
              "theater        844515.99\n",
              "games          593569.23\n",
              "film & video   244254.43"
            ]
          },
          "metadata": {},
          "execution_count": 184
        }
      ]
    },
    {
      "cell_type": "markdown",
      "source": [
        "Though theater happens to be the main category with most successful campaigns, Technology has racked in more donations so funding wise in EU technology is most successful camapigns and theater is the most successful category with higher number of successful campaigns.\n",
        "But success of any campaign if defined by whether it reached its funding goal so in that manner theater remains the top successful category of KS campaigns in EU.\n",
        "The reason technology being funded more can be because having the most developed country in the world, EU has always been the parent of technology driven products, maybe that is why it is funded more"
      ],
      "metadata": {
        "id": "T2178vrYVTY_"
      }
    },
    {
      "cell_type": "code",
      "source": [
        "#Goal and amount pledged per category (for non-US)\n",
        "kick_df_goal = df[(df['launched year'] ) & (df.Continent == 'Europe') & (df.state == 'successful')]"
      ],
      "metadata": {
        "id": "iuEACj5Qzsjv"
      },
      "execution_count": 185,
      "outputs": []
    },
    {
      "cell_type": "code",
      "source": [
        "plt.figure(dpi=120)\n",
        "sns.lineplot(data=kick_df_goal, x= kick_df_goal.Category, y=kick_df_goal.goal)\n",
        "sns.lineplot(data=kick_df_goal, x= kick_df_goal.Category, y=kick_df_goal.pledged)\n",
        "plt.title(\"Goal and pledged per category among successful projects (EU)\", fontsize=12)\n",
        "plt.xlabel(\"Categories of the projects\")\n",
        "plt.ylabel(\"Amount of money \")\n",
        "plt.xticks(rotation = 90)\n",
        "plt.legend(['goal', 'pledged'], loc='upper left')\n",
        "plt.show()"
      ],
      "metadata": {
        "colab": {
          "base_uri": "https://localhost:8080/",
          "height": 570
        },
        "id": "vA7MyAlj0HG6",
        "outputId": "9c8419e7-a253-4750-c4c0-e5ea333ec612"
      },
      "execution_count": 186,
      "outputs": [
        {
          "output_type": "display_data",
          "data": {
            "image/png": "[encoded data removed]",
            "text/plain": [
              "<Figure size 720x480 with 1 Axes>"
            ]
          },
          "metadata": {}
        }
      ]
    },
    {
      "cell_type": "markdown",
      "source": [
        "When we look at only succesful projects per category, technology is pledging in average much more money, that their goal and than other categories."
      ],
      "metadata": {
        "id": "N9XeL1Qb09Iw"
      }
    },
    {
      "cell_type": "code",
      "source": [
        "\n",
        "\n"
      ],
      "metadata": {
        "id": "GsUSSz7lkeiO"
      },
      "execution_count": 186,
      "outputs": []
    },
    {
      "cell_type": "markdown",
      "source": [
        "Now we know that **Theater** was the most successful campaign *category* in Europe by num. of successful campaigns, let's see the top *sub category* of Theater"
      ],
      "metadata": {
        "id": "RqINAyGvkg94"
      }
    },
    {
      "cell_type": "code",
      "source": [
        "eu_succ_ks_cat =  eu_success_ks[eu_success_ks['Category'] == 'theater']\n"
      ],
      "metadata": {
        "id": "g-cZ0WDPkqv0"
      },
      "execution_count": 187,
      "outputs": []
    },
    {
      "cell_type": "code",
      "source": [
        "eu_succ_ks_sub_cat_val = eu_succ_ks_cat['Sub-Category'].value_counts()\n",
        "eu_succ_ks_sub_cat_val"
      ],
      "metadata": {
        "colab": {
          "base_uri": "https://localhost:8080/"
        },
        "id": "0Xd4Tihkk8HU",
        "outputId": "6b0a4ba7-8184-472e-a0c2-ac6c3f07ffb1"
      },
      "execution_count": 188,
      "outputs": [
        {
          "output_type": "execute_result",
          "data": {
            "text/plain": [
              "plays      253\n",
              "spaces      14\n",
              "musical     10\n",
              "Name: Sub-Category, dtype: int64"
            ]
          },
          "metadata": {},
          "execution_count": 188
        }
      ]
    },
    {
      "cell_type": "markdown",
      "source": [
        "**Plays** is the most successful sub category of KS campaigns in Theater in Europe\n"
      ],
      "metadata": {
        "id": "frx3ZJK5leon"
      }
    },
    {
      "cell_type": "code",
      "source": [
        "# Most successful category of KS campaigns in EU\n",
        "plt.figure(figsize=(9,7),dpi=100)\n",
        "eu_succ_ks_cat = eu_succ_ks_cat['Sub-Category'].value_counts()\n",
        "sns.barplot(x=eu_succ_ks_sub_cat_val,y=eu_succ_ks_cat.index)\n",
        "\n",
        "plt.xlabel('Count')\n",
        "plt.ylabel('sub-categories')\n",
        "plt.title('The most successfull campaigns sub-categories in Europe');"
      ],
      "metadata": {
        "colab": {
          "base_uri": "https://localhost:8080/",
          "height": 631
        },
        "id": "JhO3WH7MfL07",
        "outputId": "39dc796a-a69b-42a7-ef8f-86ddc2c2abe3"
      },
      "execution_count": 189,
      "outputs": [
        {
          "output_type": "display_data",
          "data": {
            "image/png": "[encoded data removed]",
            "text/plain": [
              "<Figure size 900x700 with 1 Axes>"
            ]
          },
          "metadata": {}
        }
      ]
    },
    {
      "cell_type": "code",
      "source": [
        "eu_succ_ks_cat2 = eu_success_ks[eu_success_ks['Category'] == 'technology']\n"
      ],
      "metadata": {
        "id": "veb2OHyAHaTb"
      },
      "execution_count": 190,
      "outputs": []
    },
    {
      "cell_type": "code",
      "source": [
        "eu_succ_ks_sub_cat2_val = eu_succ_ks_cat2['Sub-Category'].value_counts()\n",
        "eu_succ_ks_sub_cat2_val"
      ],
      "metadata": {
        "colab": {
          "base_uri": "https://localhost:8080/"
        },
        "id": "S7ygfYgSV-Mn",
        "outputId": "91a5ac9e-164e-4174-e45f-064a826d3085"
      },
      "execution_count": 191,
      "outputs": [
        {
          "output_type": "execute_result",
          "data": {
            "text/plain": [
              "hardware             33\n",
              "space exploration     6\n",
              "wearables             2\n",
              "Name: Sub-Category, dtype: int64"
            ]
          },
          "metadata": {},
          "execution_count": 191
        }
      ]
    },
    {
      "cell_type": "markdown",
      "source": [
        "**Hardware** is the most pleged *sub category* of campaigns in Techonology in Europe "
      ],
      "metadata": {
        "id": "AWwsPWgoXuh_"
      }
    },
    {
      "cell_type": "code",
      "source": [
        "#success rate vs campaign span days\n",
        "kick_df_EU = df[(df['Continent'] == 'Europe') & (df['launched year']) & (df['campaign span days']<= 60 )]\n",
        "project_duration = kick_df_EU.groupby(['campaign span days','state'])['campaign span days'].count().reset_index(name='count')\n",
        "project_duration[\"sum_counts\"] = project_duration.groupby('campaign span days')['count'].transform('sum')\n",
        "project_duration[\"pct\"] = project_duration['count']/project_duration[\"sum_counts\"]\n",
        "project_duration = project_duration[project_duration['state'] == 'successful']\n",
        "project_duration.head()"
      ],
      "metadata": {
        "colab": {
          "base_uri": "https://localhost:8080/",
          "height": 206
        },
        "id": "CwpNnhTciVF-",
        "outputId": "0e8a65ab-0730-4678-892e-c18739648179"
      },
      "execution_count": 192,
      "outputs": [
        {
          "output_type": "execute_result",
          "data": {
            "text/html": [
              "\n",
              "  <div id=\"df-d4385ff8-3cf4-4a3b-b85e-81d6f8193926\">\n",
              "    <div class=\"colab-df-container\">\n",
              "      <div>\n",
              "<style scoped>\n",
              "    .dataframe tbody tr th:only-of-type {\n",
              "        vertical-align: middle;\n",
              "    }\n",
              "\n",
              "    .dataframe tbody tr th {\n",
              "        vertical-align: top;\n",
              "    }\n",
              "\n",
              "    .dataframe thead th {\n",
              "        text-align: right;\n",
              "    }\n",
              "</style>\n",
              "<table border=\"1\" class=\"dataframe\">\n",
              "  <thead>\n",
              "    <tr style=\"text-align: right;\">\n",
              "      <th></th>\n",
              "      <th>campaign span days</th>\n",
              "      <th>state</th>\n",
              "      <th>count</th>\n",
              "      <th>sum_counts</th>\n",
              "      <th>pct</th>\n",
              "    </tr>\n",
              "  </thead>\n",
              "  <tbody>\n",
              "    <tr>\n",
              "      <th>0</th>\n",
              "      <td>11</td>\n",
              "      <td>successful</td>\n",
              "      <td>1</td>\n",
              "      <td>1</td>\n",
              "      <td>1.0</td>\n",
              "    </tr>\n",
              "    <tr>\n",
              "      <th>1</th>\n",
              "      <td>12</td>\n",
              "      <td>successful</td>\n",
              "      <td>1</td>\n",
              "      <td>1</td>\n",
              "      <td>1.0</td>\n",
              "    </tr>\n",
              "    <tr>\n",
              "      <th>2</th>\n",
              "      <td>13</td>\n",
              "      <td>successful</td>\n",
              "      <td>2</td>\n",
              "      <td>2</td>\n",
              "      <td>1.0</td>\n",
              "    </tr>\n",
              "    <tr>\n",
              "      <th>4</th>\n",
              "      <td>14</td>\n",
              "      <td>successful</td>\n",
              "      <td>9</td>\n",
              "      <td>10</td>\n",
              "      <td>0.9</td>\n",
              "    </tr>\n",
              "    <tr>\n",
              "      <th>5</th>\n",
              "      <td>15</td>\n",
              "      <td>successful</td>\n",
              "      <td>2</td>\n",
              "      <td>2</td>\n",
              "      <td>1.0</td>\n",
              "    </tr>\n",
              "  </tbody>\n",
              "</table>\n",
              "</div>\n",
              "      <button class=\"colab-df-convert\" onclick=\"convertToInteractive('df-d4385ff8-3cf4-4a3b-b85e-81d6f8193926')\"\n",
              "              title=\"Convert this dataframe to an interactive table.\"\n",
              "              style=\"display:none;\">\n",
              "        \n",
              "  <svg xmlns=\"http://www.w3.org/2000/svg\" height=\"24px\"viewBox=\"0 0 24 24\"\n",
              "       width=\"24px\">\n",
              "    <path d=\"M0 0h24v24H0V0z\" fill=\"none\"/>\n",
              "    <path d=\"M18.56 5.44l.94 2.06.94-2.06 2.06-.94-2.06-.94-.94-2.06-.94 2.06-2.06.94zm-11 1L8.5 8.5l.94-2.06 2.06-.94-2.06-.94L8.5 2.5l-.94 2.06-2.06.94zm10 10l.94 2.06.94-2.06 2.06-.94-2.06-.94-.94-2.06-.94 2.06-2.06.94z\"/><path d=\"M17.41 7.96l-1.37-1.37c-.4-.4-.92-.59-1.43-.59-.52 0-1.04.2-1.43.59L10.3 9.45l-7.72 7.72c-.78.78-.78 2.05 0 2.83L4 21.41c.39.39.9.59 1.41.59.51 0 1.02-.2 1.41-.59l7.78-7.78 2.81-2.81c.8-.78.8-2.07 0-2.86zM5.41 20L4 18.59l7.72-7.72 1.47 1.35L5.41 20z\"/>\n",
              "  </svg>\n",
              "      </button>\n",
              "      \n",
              "  <style>\n",
              "    .colab-df-container {\n",
              "      display:flex;\n",
              "      flex-wrap:wrap;\n",
              "      gap: 12px;\n",
              "    }\n",
              "\n",
              "    .colab-df-convert {\n",
              "      background-color: #E8F0FE;\n",
              "      border: none;\n",
              "      border-radius: 50%;\n",
              "      cursor: pointer;\n",
              "      display: none;\n",
              "      fill: #1967D2;\n",
              "      height: 32px;\n",
              "      padding: 0 0 0 0;\n",
              "      width: 32px;\n",
              "    }\n",
              "\n",
              "    .colab-df-convert:hover {\n",
              "      background-color: #E2EBFA;\n",
              "      box-shadow: 0px 1px 2px rgba(60, 64, 67, 0.3), 0px 1px 3px 1px rgba(60, 64, 67, 0.15);\n",
              "      fill: #174EA6;\n",
              "    }\n",
              "\n",
              "    [theme=dark] .colab-df-convert {\n",
              "      background-color: #3B4455;\n",
              "      fill: #D2E3FC;\n",
              "    }\n",
              "\n",
              "    [theme=dark] .colab-df-convert:hover {\n",
              "      background-color: #434B5C;\n",
              "      box-shadow: 0px 1px 3px 1px rgba(0, 0, 0, 0.15);\n",
              "      filter: drop-shadow(0px 1px 2px rgba(0, 0, 0, 0.3));\n",
              "      fill: #FFFFFF;\n",
              "    }\n",
              "  </style>\n",
              "\n",
              "      <script>\n",
              "        const buttonEl =\n",
              "          document.querySelector('#df-d4385ff8-3cf4-4a3b-b85e-81d6f8193926 button.colab-df-convert');\n",
              "        buttonEl.style.display =\n",
              "          google.colab.kernel.accessAllowed ? 'block' : 'none';\n",
              "\n",
              "        async function convertToInteractive(key) {\n",
              "          const element = document.querySelector('#df-d4385ff8-3cf4-4a3b-b85e-81d6f8193926');\n",
              "          const dataTable =\n",
              "            await google.colab.kernel.invokeFunction('convertToInteractive',\n",
              "                                                     [key], {});\n",
              "          if (!dataTable) return;\n",
              "\n",
              "          const docLinkHtml = 'Like what you see? Visit the ' +\n",
              "            '<a target=\"_blank\" href=https://colab.research.google.com/notebooks/data_table.ipynb>data table notebook</a>'\n",
              "            + ' to learn more about interactive tables.';\n",
              "          element.innerHTML = '';\n",
              "          dataTable['output_type'] = 'display_data';\n",
              "          await google.colab.output.renderOutput(dataTable, element);\n",
              "          const docLink = document.createElement('div');\n",
              "          docLink.innerHTML = docLinkHtml;\n",
              "          element.appendChild(docLink);\n",
              "        }\n",
              "      </script>\n",
              "    </div>\n",
              "  </div>\n",
              "  "
            ],
            "text/plain": [
              "   campaign span days       state  count  sum_counts  pct\n",
              "0                  11  successful      1           1  1.0\n",
              "1                  12  successful      1           1  1.0\n",
              "2                  13  successful      2           2  1.0\n",
              "4                  14  successful      9          10  0.9\n",
              "5                  15  successful      2           2  1.0"
            ]
          },
          "metadata": {},
          "execution_count": 192
        }
      ]
    },
    {
      "cell_type": "code",
      "source": [
        "plt.figure(dpi=120)\n",
        "plt.style.use('dark_background')\n",
        "sns.lmplot(data=project_duration, x=\"campaign span days\", y=\"pct\")\n",
        "plt.title(\"Success Rate vs campaign span days\", fontsize=12)\n",
        "plt.xlabel(\"Duration of campaign (days)\")\n",
        "plt.ylabel(\"Success Rate (%)\")\n",
        "plt.show()"
      ],
      "metadata": {
        "colab": {
          "base_uri": "https://localhost:8080/",
          "height": 402
        },
        "id": "sXZ0LZ26SqQc",
        "outputId": "bfeb259d-0c55-45ac-d7e8-b3dd79339754"
      },
      "execution_count": 193,
      "outputs": [
        {
          "output_type": "display_data",
          "data": {
            "text/plain": [
              "<Figure size 720x480 with 0 Axes>"
            ]
          },
          "metadata": {}
        },
        {
          "output_type": "display_data",
          "data": {
            "image/png": "[encoded data removed]",
            "text/plain": [
              "<Figure size 360x360 with 1 Axes>"
            ]
          },
          "metadata": {}
        }
      ]
    },
    {
      "cell_type": "markdown",
      "source": [
        "We can see there is not clear correlation between success rate and campaign span days, we don’t have the actual duration time. We also need to consider that a lot of projects are only asking for small amount of money, which is easy to get for short duration."
      ],
      "metadata": {
        "id": "RACwutRBTmmT"
      }
    },
    {
      "cell_type": "markdown",
      "source": [
        ""
      ],
      "metadata": {
        "id": "C2ZjCfFmUOAX"
      }
    },
    {
      "cell_type": "markdown",
      "source": [
        "# Lets look at the unsucessful campaigns in Europe"
      ],
      "metadata": {
        "id": "kJWuerZ4ovDe"
      }
    },
    {
      "cell_type": "code",
      "source": [
        "failed_ks = df[df['state'] == 'failed']"
      ],
      "metadata": {
        "id": "pajbD_X8o4PW"
      },
      "execution_count": 194,
      "outputs": []
    },
    {
      "cell_type": "code",
      "source": [
        "failed_ks_eu = failed_ks[failed_ks['Continent'] == 'Europe']\n"
      ],
      "metadata": {
        "id": "P8DRM9q7o7nZ"
      },
      "execution_count": 195,
      "outputs": []
    },
    {
      "cell_type": "code",
      "source": [
        "failed_ks_eu"
      ],
      "metadata": {
        "colab": {
          "base_uri": "https://localhost:8080/",
          "height": 1000
        },
        "id": "zkOSWrbvpEpz",
        "outputId": "bc2615d0-02ce-4b5d-ae92-18269f2aee12"
      },
      "execution_count": 196,
      "outputs": [
        {
          "output_type": "execute_result",
          "data": {
            "text/html": [
              "\n",
              "  <div id=\"df-19c992fa-9c44-498a-9109-f1c01debc94c\">\n",
              "    <div class=\"colab-df-container\">\n",
              "      <div>\n",
              "<style scoped>\n",
              "    .dataframe tbody tr th:only-of-type {\n",
              "        vertical-align: middle;\n",
              "    }\n",
              "\n",
              "    .dataframe tbody tr th {\n",
              "        vertical-align: top;\n",
              "    }\n",
              "\n",
              "    .dataframe thead th {\n",
              "        text-align: right;\n",
              "    }\n",
              "</style>\n",
              "<table border=\"1\" class=\"dataframe\">\n",
              "  <thead>\n",
              "    <tr style=\"text-align: right;\">\n",
              "      <th></th>\n",
              "      <th>id</th>\n",
              "      <th>name</th>\n",
              "      <th>blurb</th>\n",
              "      <th>goal</th>\n",
              "      <th>pledged</th>\n",
              "      <th>state</th>\n",
              "      <th>country</th>\n",
              "      <th>currency</th>\n",
              "      <th>deadline</th>\n",
              "      <th>launched_at</th>\n",
              "      <th>staff_pick</th>\n",
              "      <th>backers_count</th>\n",
              "      <th>spotlight</th>\n",
              "      <th>Category and Sub-Category</th>\n",
              "      <th>Continent</th>\n",
              "      <th>quarter</th>\n",
              "      <th>campaign span days</th>\n",
              "      <th>launched year</th>\n",
              "      <th>Category</th>\n",
              "      <th>Sub-Category</th>\n",
              "    </tr>\n",
              "  </thead>\n",
              "  <tbody>\n",
              "    <tr>\n",
              "      <th>165</th>\n",
              "      <td>165</td>\n",
              "      <td>NET</td>\n",
              "      <td>A teacher. A boy. The beach and a heatwave tha...</td>\n",
              "      <td>17000.0</td>\n",
              "      <td>0.0</td>\n",
              "      <td>failed</td>\n",
              "      <td>GB</td>\n",
              "      <td>GBP</td>\n",
              "      <td>2016-01-12 15:48:44</td>\n",
              "      <td>2015-12-13 15:48:44</td>\n",
              "      <td>False</td>\n",
              "      <td>0</td>\n",
              "      <td>False</td>\n",
              "      <td>film &amp; video/drama</td>\n",
              "      <td>Europe</td>\n",
              "      <td>4</td>\n",
              "      <td>30</td>\n",
              "      <td>2015</td>\n",
              "      <td>film &amp; video</td>\n",
              "      <td>drama</td>\n",
              "    </tr>\n",
              "    <tr>\n",
              "      <th>169</th>\n",
              "      <td>169</td>\n",
              "      <td>Family</td>\n",
              "      <td>Family is a short film about a father and son ...</td>\n",
              "      <td>2500.0</td>\n",
              "      <td>560.0</td>\n",
              "      <td>failed</td>\n",
              "      <td>GB</td>\n",
              "      <td>GBP</td>\n",
              "      <td>2014-10-18 12:07:39</td>\n",
              "      <td>2014-09-18 12:07:39</td>\n",
              "      <td>False</td>\n",
              "      <td>10</td>\n",
              "      <td>False</td>\n",
              "      <td>film &amp; video/drama</td>\n",
              "      <td>Europe</td>\n",
              "      <td>3</td>\n",
              "      <td>30</td>\n",
              "      <td>2014</td>\n",
              "      <td>film &amp; video</td>\n",
              "      <td>drama</td>\n",
              "    </tr>\n",
              "    <tr>\n",
              "      <th>173</th>\n",
              "      <td>173</td>\n",
              "      <td>7 Sins</td>\n",
              "      <td>This is a film inspired by Quentin Tarantino, ...</td>\n",
              "      <td>1110.0</td>\n",
              "      <td>0.0</td>\n",
              "      <td>failed</td>\n",
              "      <td>GB</td>\n",
              "      <td>GBP</td>\n",
              "      <td>2015-02-28 13:45:08</td>\n",
              "      <td>2015-01-29 13:45:08</td>\n",
              "      <td>False</td>\n",
              "      <td>0</td>\n",
              "      <td>False</td>\n",
              "      <td>film &amp; video/drama</td>\n",
              "      <td>Europe</td>\n",
              "      <td>1</td>\n",
              "      <td>30</td>\n",
              "      <td>2015</td>\n",
              "      <td>film &amp; video</td>\n",
              "      <td>drama</td>\n",
              "    </tr>\n",
              "    <tr>\n",
              "      <th>174</th>\n",
              "      <td>174</td>\n",
              "      <td>I Am Forgotten</td>\n",
              "      <td>An international short film project. It is abo...</td>\n",
              "      <td>6000.0</td>\n",
              "      <td>0.0</td>\n",
              "      <td>failed</td>\n",
              "      <td>NL</td>\n",
              "      <td>EUR</td>\n",
              "      <td>2015-05-08 18:12:56</td>\n",
              "      <td>2015-03-09 18:12:56</td>\n",
              "      <td>False</td>\n",
              "      <td>0</td>\n",
              "      <td>False</td>\n",
              "      <td>film &amp; video/drama</td>\n",
              "      <td>Europe</td>\n",
              "      <td>1</td>\n",
              "      <td>60</td>\n",
              "      <td>2015</td>\n",
              "      <td>film &amp; video</td>\n",
              "      <td>drama</td>\n",
              "    </tr>\n",
              "    <tr>\n",
              "      <th>175</th>\n",
              "      <td>175</td>\n",
              "      <td>Gooseberry Fool - Feature Film</td>\n",
              "      <td>To heal her scars Olivia must take a journey b...</td>\n",
              "      <td>20000.0</td>\n",
              "      <td>1297.0</td>\n",
              "      <td>failed</td>\n",
              "      <td>GB</td>\n",
              "      <td>GBP</td>\n",
              "      <td>2014-08-29 18:40:11</td>\n",
              "      <td>2014-08-04 18:40:11</td>\n",
              "      <td>False</td>\n",
              "      <td>26</td>\n",
              "      <td>False</td>\n",
              "      <td>film &amp; video/drama</td>\n",
              "      <td>Europe</td>\n",
              "      <td>3</td>\n",
              "      <td>25</td>\n",
              "      <td>2014</td>\n",
              "      <td>film &amp; video</td>\n",
              "      <td>drama</td>\n",
              "    </tr>\n",
              "    <tr>\n",
              "      <th>...</th>\n",
              "      <td>...</td>\n",
              "      <td>...</td>\n",
              "      <td>...</td>\n",
              "      <td>...</td>\n",
              "      <td>...</td>\n",
              "      <td>...</td>\n",
              "      <td>...</td>\n",
              "      <td>...</td>\n",
              "      <td>...</td>\n",
              "      <td>...</td>\n",
              "      <td>...</td>\n",
              "      <td>...</td>\n",
              "      <td>...</td>\n",
              "      <td>...</td>\n",
              "      <td>...</td>\n",
              "      <td>...</td>\n",
              "      <td>...</td>\n",
              "      <td>...</td>\n",
              "      <td>...</td>\n",
              "      <td>...</td>\n",
              "    </tr>\n",
              "    <tr>\n",
              "      <th>4096</th>\n",
              "      <td>4096</td>\n",
              "      <td>Theatre for Life, Youth Theatre Company, South...</td>\n",
              "      <td>Theatre for Life believes in unlocking young p...</td>\n",
              "      <td>3500.0</td>\n",
              "      <td>400.0</td>\n",
              "      <td>failed</td>\n",
              "      <td>GB</td>\n",
              "      <td>GBP</td>\n",
              "      <td>2017-02-28 08:51:00</td>\n",
              "      <td>2017-01-15 12:43:39</td>\n",
              "      <td>False</td>\n",
              "      <td>5</td>\n",
              "      <td>False</td>\n",
              "      <td>theater/plays</td>\n",
              "      <td>Europe</td>\n",
              "      <td>1</td>\n",
              "      <td>43</td>\n",
              "      <td>2017</td>\n",
              "      <td>theater</td>\n",
              "      <td>plays</td>\n",
              "    </tr>\n",
              "    <tr>\n",
              "      <th>4097</th>\n",
              "      <td>4097</td>\n",
              "      <td>And There Was War! Major Theatre Production</td>\n",
              "      <td>And There Was War is a play, a biblical narrat...</td>\n",
              "      <td>10000.0</td>\n",
              "      <td>0.0</td>\n",
              "      <td>failed</td>\n",
              "      <td>GB</td>\n",
              "      <td>GBP</td>\n",
              "      <td>2016-01-31 23:55:00</td>\n",
              "      <td>2015-12-06 19:47:17</td>\n",
              "      <td>False</td>\n",
              "      <td>0</td>\n",
              "      <td>False</td>\n",
              "      <td>theater/plays</td>\n",
              "      <td>Europe</td>\n",
              "      <td>4</td>\n",
              "      <td>56</td>\n",
              "      <td>2015</td>\n",
              "      <td>theater</td>\n",
              "      <td>plays</td>\n",
              "    </tr>\n",
              "    <tr>\n",
              "      <th>4109</th>\n",
              "      <td>4109</td>\n",
              "      <td>Jack the Lad</td>\n",
              "      <td>Jack the Lad - a new play that explores how fa...</td>\n",
              "      <td>500.0</td>\n",
              "      <td>0.0</td>\n",
              "      <td>failed</td>\n",
              "      <td>GB</td>\n",
              "      <td>GBP</td>\n",
              "      <td>2015-11-29 13:56:44</td>\n",
              "      <td>2015-10-30 12:56:44</td>\n",
              "      <td>False</td>\n",
              "      <td>0</td>\n",
              "      <td>False</td>\n",
              "      <td>theater/plays</td>\n",
              "      <td>Europe</td>\n",
              "      <td>4</td>\n",
              "      <td>30</td>\n",
              "      <td>2015</td>\n",
              "      <td>theater</td>\n",
              "      <td>plays</td>\n",
              "    </tr>\n",
              "    <tr>\n",
              "      <th>4110</th>\n",
              "      <td>4110</td>\n",
              "      <td>Take Tartuffe to Edinburgh Fringe Festival!</td>\n",
              "      <td>Set in the height of sex, drugs and rock 'n' r...</td>\n",
              "      <td>300.0</td>\n",
              "      <td>86.0</td>\n",
              "      <td>failed</td>\n",
              "      <td>GB</td>\n",
              "      <td>GBP</td>\n",
              "      <td>2016-07-21 15:02:31</td>\n",
              "      <td>2016-05-22 15:02:31</td>\n",
              "      <td>False</td>\n",
              "      <td>6</td>\n",
              "      <td>False</td>\n",
              "      <td>theater/plays</td>\n",
              "      <td>Europe</td>\n",
              "      <td>2</td>\n",
              "      <td>60</td>\n",
              "      <td>2016</td>\n",
              "      <td>theater</td>\n",
              "      <td>plays</td>\n",
              "    </tr>\n",
              "    <tr>\n",
              "      <th>4112</th>\n",
              "      <td>4112</td>\n",
              "      <td>A Great New Controversial Play - \"The Divide\".</td>\n",
              "      <td>Set in Southern America â€œThe Divideâ€ is a ...</td>\n",
              "      <td>2500.0</td>\n",
              "      <td>1.0</td>\n",
              "      <td>failed</td>\n",
              "      <td>IE</td>\n",
              "      <td>EUR</td>\n",
              "      <td>2016-02-28 00:00:00</td>\n",
              "      <td>2016-01-31 22:43:06</td>\n",
              "      <td>False</td>\n",
              "      <td>1</td>\n",
              "      <td>False</td>\n",
              "      <td>theater/plays</td>\n",
              "      <td>Europe</td>\n",
              "      <td>1</td>\n",
              "      <td>27</td>\n",
              "      <td>2016</td>\n",
              "      <td>theater</td>\n",
              "      <td>plays</td>\n",
              "    </tr>\n",
              "  </tbody>\n",
              "</table>\n",
              "<p>313 rows × 20 columns</p>\n",
              "</div>\n",
              "      <button class=\"colab-df-convert\" onclick=\"convertToInteractive('df-19c992fa-9c44-498a-9109-f1c01debc94c')\"\n",
              "              title=\"Convert this dataframe to an interactive table.\"\n",
              "              style=\"display:none;\">\n",
              "        \n",
              "  <svg xmlns=\"http://www.w3.org/2000/svg\" height=\"24px\"viewBox=\"0 0 24 24\"\n",
              "       width=\"24px\">\n",
              "    <path d=\"M0 0h24v24H0V0z\" fill=\"none\"/>\n",
              "    <path d=\"M18.56 5.44l.94 2.06.94-2.06 2.06-.94-2.06-.94-.94-2.06-.94 2.06-2.06.94zm-11 1L8.5 8.5l.94-2.06 2.06-.94-2.06-.94L8.5 2.5l-.94 2.06-2.06.94zm10 10l.94 2.06.94-2.06 2.06-.94-2.06-.94-.94-2.06-.94 2.06-2.06.94z\"/><path d=\"M17.41 7.96l-1.37-1.37c-.4-.4-.92-.59-1.43-.59-.52 0-1.04.2-1.43.59L10.3 9.45l-7.72 7.72c-.78.78-.78 2.05 0 2.83L4 21.41c.39.39.9.59 1.41.59.51 0 1.02-.2 1.41-.59l7.78-7.78 2.81-2.81c.8-.78.8-2.07 0-2.86zM5.41 20L4 18.59l7.72-7.72 1.47 1.35L5.41 20z\"/>\n",
              "  </svg>\n",
              "      </button>\n",
              "      \n",
              "  <style>\n",
              "    .colab-df-container {\n",
              "      display:flex;\n",
              "      flex-wrap:wrap;\n",
              "      gap: 12px;\n",
              "    }\n",
              "\n",
              "    .colab-df-convert {\n",
              "      background-color: #E8F0FE;\n",
              "      border: none;\n",
              "      border-radius: 50%;\n",
              "      cursor: pointer;\n",
              "      display: none;\n",
              "      fill: #1967D2;\n",
              "      height: 32px;\n",
              "      padding: 0 0 0 0;\n",
              "      width: 32px;\n",
              "    }\n",
              "\n",
              "    .colab-df-convert:hover {\n",
              "      background-color: #E2EBFA;\n",
              "      box-shadow: 0px 1px 2px rgba(60, 64, 67, 0.3), 0px 1px 3px 1px rgba(60, 64, 67, 0.15);\n",
              "      fill: #174EA6;\n",
              "    }\n",
              "\n",
              "    [theme=dark] .colab-df-convert {\n",
              "      background-color: #3B4455;\n",
              "      fill: #D2E3FC;\n",
              "    }\n",
              "\n",
              "    [theme=dark] .colab-df-convert:hover {\n",
              "      background-color: #434B5C;\n",
              "      box-shadow: 0px 1px 3px 1px rgba(0, 0, 0, 0.15);\n",
              "      filter: drop-shadow(0px 1px 2px rgba(0, 0, 0, 0.3));\n",
              "      fill: #FFFFFF;\n",
              "    }\n",
              "  </style>\n",
              "\n",
              "      <script>\n",
              "        const buttonEl =\n",
              "          document.querySelector('#df-19c992fa-9c44-498a-9109-f1c01debc94c button.colab-df-convert');\n",
              "        buttonEl.style.display =\n",
              "          google.colab.kernel.accessAllowed ? 'block' : 'none';\n",
              "\n",
              "        async function convertToInteractive(key) {\n",
              "          const element = document.querySelector('#df-19c992fa-9c44-498a-9109-f1c01debc94c');\n",
              "          const dataTable =\n",
              "            await google.colab.kernel.invokeFunction('convertToInteractive',\n",
              "                                                     [key], {});\n",
              "          if (!dataTable) return;\n",
              "\n",
              "          const docLinkHtml = 'Like what you see? Visit the ' +\n",
              "            '<a target=\"_blank\" href=https://colab.research.google.com/notebooks/data_table.ipynb>data table notebook</a>'\n",
              "            + ' to learn more about interactive tables.';\n",
              "          element.innerHTML = '';\n",
              "          dataTable['output_type'] = 'display_data';\n",
              "          await google.colab.output.renderOutput(dataTable, element);\n",
              "          const docLink = document.createElement('div');\n",
              "          docLink.innerHTML = docLinkHtml;\n",
              "          element.appendChild(docLink);\n",
              "        }\n",
              "      </script>\n",
              "    </div>\n",
              "  </div>\n",
              "  "
            ],
            "text/plain": [
              "        id  ... Sub-Category\n",
              "165    165  ...        drama\n",
              "169    169  ...        drama\n",
              "173    173  ...        drama\n",
              "174    174  ...        drama\n",
              "175    175  ...        drama\n",
              "...    ...  ...          ...\n",
              "4096  4096  ...        plays\n",
              "4097  4097  ...        plays\n",
              "4109  4109  ...        plays\n",
              "4110  4110  ...        plays\n",
              "4112  4112  ...        plays\n",
              "\n",
              "[313 rows x 20 columns]"
            ]
          },
          "metadata": {},
          "execution_count": 196
        }
      ]
    },
    {
      "cell_type": "code",
      "source": [
        "fail_cat_eu = failed_ks_eu['Category'].value_counts()\n",
        "fail_cat_eu"
      ],
      "metadata": {
        "colab": {
          "base_uri": "https://localhost:8080/"
        },
        "id": "KqFlvufTyizs",
        "outputId": "dce9d551-7f5c-4bb0-bb3a-e1e2b9ef126b"
      },
      "execution_count": 197,
      "outputs": [
        {
          "output_type": "execute_result",
          "data": {
            "text/plain": [
              "theater         110\n",
              "technology       52\n",
              "film & video     37\n",
              "photography      34\n",
              "games            29\n",
              "publishing       28\n",
              "food             14\n",
              "music             9\n",
              "Name: Category, dtype: int64"
            ]
          },
          "metadata": {},
          "execution_count": 197
        }
      ]
    },
    {
      "cell_type": "code",
      "source": [
        "# Lets see the category of campaigns failed in eu\n",
        "\n",
        "plt.figure(figsize=(9,7),dpi=90)\n",
        "\n",
        "sns.barplot(x=fail_cat_eu.values,y=fail_cat_eu.index)\n",
        "plt.title('Failed campaings by category in EU ')"
      ],
      "metadata": {
        "colab": {
          "base_uri": "https://localhost:8080/",
          "height": 568
        },
        "id": "Uq5NQwhbzDfI",
        "outputId": "5ec37850-2cd0-4c34-cb58-8b3853efbf1d"
      },
      "execution_count": 198,
      "outputs": [
        {
          "output_type": "execute_result",
          "data": {
            "text/plain": [
              "Text(0.5, 1.0, 'Failed campaings by category in EU ')"
            ]
          },
          "metadata": {},
          "execution_count": 198
        },
        {
          "output_type": "display_data",
          "data": {
            "image/png": "[encoded data removed]",
            "text/plain": [
              "<Figure size 810x630 with 1 Axes>"
            ]
          },
          "metadata": {}
        }
      ]
    },
    {
      "cell_type": "code",
      "source": [
        "#lets see in which quarter most failed projects were found\n",
        "failed_ks_eu['quarter'].value_counts()"
      ],
      "metadata": {
        "colab": {
          "base_uri": "https://localhost:8080/"
        },
        "id": "peTfItL4AW8E",
        "outputId": "2ac31c0d-bf8f-4fed-a74e-f98d39fc7069"
      },
      "execution_count": 199,
      "outputs": [
        {
          "output_type": "execute_result",
          "data": {
            "text/plain": [
              "2    94\n",
              "1    77\n",
              "4    74\n",
              "3    68\n",
              "Name: quarter, dtype: int64"
            ]
          },
          "metadata": {},
          "execution_count": 199
        }
      ]
    },
    {
      "cell_type": "code",
      "source": [
        "failed_ks_eu['country'].value_counts().sort_values(ascending=False)[0:5]  #Top 5 countries in EU of failed ks"
      ],
      "metadata": {
        "colab": {
          "base_uri": "https://localhost:8080/"
        },
        "id": "uQTAzsbAAtmQ",
        "outputId": "090f35cc-3e2b-4eec-904b-9740fc4003c3"
      },
      "execution_count": 200,
      "outputs": [
        {
          "output_type": "execute_result",
          "data": {
            "text/plain": [
              "GB    205\n",
              "DE     27\n",
              "IT     19\n",
              "NL     14\n",
              "FR     10\n",
              "Name: country, dtype: int64"
            ]
          },
          "metadata": {},
          "execution_count": 200
        }
      ]
    },
    {
      "cell_type": "code",
      "source": [
        "\n",
        "\n",
        "\n"
      ],
      "metadata": {
        "id": "es9ZT-1ABPXx"
      },
      "execution_count": 200,
      "outputs": []
    },
    {
      "cell_type": "markdown",
      "source": [
        "# Lets analyze the data of rest of the world - other than eu"
      ],
      "metadata": {
        "id": "lO13-JmCBRUJ"
      }
    },
    {
      "cell_type": "code",
      "source": [
        "rest_of_world = df[df['Continent'] != 'Europe']"
      ],
      "metadata": {
        "id": "NAWBhNjvBhYt"
      },
      "execution_count": 201,
      "outputs": []
    },
    {
      "cell_type": "code",
      "source": [
        "rest_of_world['Continent']"
      ],
      "metadata": {
        "colab": {
          "base_uri": "https://localhost:8080/"
        },
        "id": "ZfrijqGUBnLE",
        "outputId": "e1e13cec-a0b2-4ab7-98e3-0d29316c69ea"
      },
      "execution_count": 202,
      "outputs": [
        {
          "output_type": "execute_result",
          "data": {
            "text/plain": [
              "0       North America\n",
              "1       North America\n",
              "3       North America\n",
              "4       North America\n",
              "5       North America\n",
              "            ...      \n",
              "4106    North America\n",
              "4107    North America\n",
              "4108    North America\n",
              "4111    North America\n",
              "4113    North America\n",
              "Name: Continent, Length: 3285, dtype: object"
            ]
          },
          "metadata": {},
          "execution_count": 202
        }
      ]
    },
    {
      "cell_type": "code",
      "source": [
        "plt.figure(figsize=(9,7),dpi=100)\n",
        "\n",
        "sns.countplot(data = rest_of_world, y='Category',hue='state')\n",
        "\n",
        "plt.title('Successful and failed campaigns by category for non European')"
      ],
      "metadata": {
        "colab": {
          "base_uri": "https://localhost:8080/",
          "height": 648
        },
        "id": "k33p4HFsB0kR",
        "outputId": "353bd0b3-ecd3-4838-8bb7-ce71939c1e7b"
      },
      "execution_count": 203,
      "outputs": [
        {
          "output_type": "execute_result",
          "data": {
            "text/plain": [
              "Text(0.5, 1.0, 'Successful and failed campaigns by category for non European')"
            ]
          },
          "metadata": {},
          "execution_count": 203
        },
        {
          "output_type": "display_data",
          "data": {
            "image/png": "[encoded data removed]",
            "text/plain": [
              "<Figure size 900x700 with 1 Axes>"
            ]
          },
          "metadata": {}
        }
      ]
    },
    {
      "cell_type": "markdown",
      "source": [
        "From the above plot we can see that for the rest of the world the most successfull ks campaign category was also theater\n",
        "\n",
        "\n",
        "\n",
        "\n",
        "\n",
        "\n",
        "\n",
        "\n",
        "\n",
        "\n",
        "\n",
        "\n",
        "\n",
        "\n",
        "\n",
        "\n",
        "\n",
        "\n",
        "\n",
        "\n",
        "\n",
        "\n",
        "\n",
        "\n",
        "\n",
        "\n",
        "\n",
        "\n",
        "\n",
        "\n",
        "\n",
        "\n",
        "\n",
        "\n",
        "\n",
        "\n",
        "\n",
        "\n",
        "\n",
        "\n",
        "\n",
        "\n",
        "\n",
        "\n",
        "\n",
        "\n",
        "\n",
        "\n",
        "\n",
        "\n",
        "\n",
        "\n",
        "\n",
        "\n",
        "\n",
        "\n",
        "\n",
        "\n",
        "\n",
        "\n",
        "\n",
        "\n",
        "\n",
        "\n",
        "\n",
        "\n",
        "\n",
        "\n",
        "\n",
        "\n",
        "\n",
        "\n",
        "\n",
        "\n",
        "\n",
        "\n",
        "\n",
        "\n",
        "\n",
        "\n",
        "\n",
        "\n",
        "\n",
        "\n",
        "\n",
        "\n",
        "\n",
        "\n",
        "\n",
        "\n",
        "\n",
        "\n",
        "\n",
        "\n",
        "\n",
        "\n",
        "\n",
        "\n",
        "\n",
        "\n",
        "\n",
        "\n",
        "\n",
        "\n",
        "\n",
        "\n",
        "\n",
        "\n",
        "\n",
        "\n",
        "\n",
        "\n",
        "\n",
        "\n",
        "\n",
        "\n",
        "\n",
        "\n",
        "\n",
        "\n",
        "\n",
        "\n",
        "\n",
        "\n",
        "\n",
        "\n",
        "\n",
        "\n",
        "\n",
        "\n",
        "\n",
        "\n",
        "\n",
        "\n",
        "\n",
        "\n",
        "\n",
        "\n",
        "\n",
        "\n",
        "\n",
        "\n",
        "\n",
        "\n",
        "\n",
        "\n",
        "\n",
        "\n"
      ],
      "metadata": {
        "id": "ySM3uFLHCWs7"
      }
    },
    {
      "cell_type": "code",
      "source": [
        "plt.figure(figsize=(9,7),dpi=100)\n",
        "\n",
        "sns.countplot(data = rest_of_world, x='quarter',hue='state')\n",
        "\n",
        "plt.title('Successful and failed campaigns by Start Quarter of the year for non European')\n",
        "\n",
        "plt.legend(bbox_to_anchor=(1.25,1))"
      ],
      "metadata": {
        "colab": {
          "base_uri": "https://localhost:8080/",
          "height": 648
        },
        "id": "N7ea2yZtFr2f",
        "outputId": "3c806882-1fef-4fdd-9b8b-9a0dad73a2b4"
      },
      "execution_count": 204,
      "outputs": [
        {
          "output_type": "execute_result",
          "data": {
            "text/plain": [
              "<matplotlib.legend.Legend at 0x7f91271108d0>"
            ]
          },
          "metadata": {},
          "execution_count": 204
        },
        {
          "output_type": "display_data",
          "data": {
            "image/png": "[encoded data removed]",
            "text/plain": [
              "<Figure size 900x700 with 1 Axes>"
            ]
          },
          "metadata": {}
        }
      ]
    }
  ]
}